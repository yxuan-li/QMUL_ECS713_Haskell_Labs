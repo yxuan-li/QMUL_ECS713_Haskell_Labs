{
 "cells": [
  {
   "cell_type": "markdown",
   "metadata": {},
   "source": [
    "# ECS713: Week 2 Lab Sheet - Part 1/2"
   ]
  },
  {
   "cell_type": "markdown",
   "metadata": {},
   "source": [
    "This lab sheet covers \n",
    "- comments\n",
    "- types\n",
    "- conditionals\n",
    "- the offside rule"
   ]
  },
  {
   "cell_type": "markdown",
   "metadata": {},
   "source": [
    "## Learning Objectives"
   ]
  },
  {
   "cell_type": "markdown",
   "metadata": {},
   "source": [
    "By the time you complete this sheet you should be able to\n",
    "- write a simple Haskell definition for a value\n",
    "- write a simple Haskell definition for a function\n",
    "- be familiar with the precedence of basic Haskell operators\n",
    "- know some basic functions to use with lists and tuples. "
   ]
  },
  {
   "cell_type": "markdown",
   "metadata": {},
   "source": [
    "## Turn off the annoying linter"
   ]
  },
  {
   "cell_type": "markdown",
   "metadata": {},
   "source": [
    "Run the cell below to turn off the annoying linter, which suggests improvements to your code that aren't appropriate for these exercises. "
   ]
  },
  {
   "cell_type": "code",
   "execution_count": 1,
   "metadata": {},
   "outputs": [],
   "source": [
    ":opt no-lint"
   ]
  },
  {
   "cell_type": "code",
   "execution_count": 2,
   "metadata": {},
   "outputs": [],
   "source": [
    "data Boolean = True | False"
   ]
  },
  {
   "cell_type": "code",
   "execution_count": 3,
   "metadata": {},
   "outputs": [],
   "source": [
    "data BTree = Node String BTree BTree\n",
    "    | Leaf String\n",
    "    | Empty"
   ]
  },
  {
   "cell_type": "code",
   "execution_count": 4,
   "metadata": {},
   "outputs": [],
   "source": [
    "btreeExample = Node \"a\"\n",
    "        (Node \"b\" (Leaf \"c\") Empty)\n",
    "        (Node \"d\"\n",
    "            (Node \"e\" (Leaf \"ab\") (Leaf \"de\"))\n",
    "            Empty)"
   ]
  },
  {
   "cell_type": "code",
   "execution_count": 5,
   "metadata": {},
   "outputs": [],
   "source": [
    "data MyBtree a = Node a (MyBtree a) (MyBtree a)\n",
    "    | Leaf a\n",
    "    | Empty"
   ]
  },
  {
   "cell_type": "markdown",
   "metadata": {},
   "source": [
    "## Comments"
   ]
  },
  {
   "cell_type": "markdown",
   "metadata": {},
   "source": [
    "Comments can be a bit superfluous in Jupyter notebooks, but they are essential in regular code. \n",
    "\n",
    "Haskell has both single and multiline comments. "
   ]
  },
  {
   "cell_type": "code",
   "execution_count": 6,
   "metadata": {},
   "outputs": [],
   "source": [
    "-- COMMENTS\n",
    "\n",
    "-- Anything after -- is a comment\n",
    "\n",
    "{- Multiline comments can be between brackets,\n",
    "like this.\n",
    "-}"
   ]
  },
  {
   "cell_type": "markdown",
   "metadata": {},
   "source": [
    "## 1. TYPES"
   ]
  },
  {
   "cell_type": "markdown",
   "metadata": {},
   "source": [
    "a. Synonyms: Which of these values is badly typed? And which of the others are equal?\n",
    "`['a','a','a']`\n",
    "`[\"aaa\"]`\n",
    "`\"aaa\"`\n",
    "`['aaa']`\n",
    "`'a'++\"aa\"`\n",
    "`'a':\"aa\"`\n",
    "`['a']++\"aa\"`\n",
    "`[\"a\"]:[\"aa\"]`\n",
    "\n",
    "Use the box below to check values and use the `:type` directive to check the types: "
   ]
  },
  {
   "cell_type": "code",
   "execution_count": 7,
   "metadata": {},
   "outputs": [
    {
     "data": {
      "text/plain": [
       "\"aaa\""
      ]
     },
     "metadata": {},
     "output_type": "display_data"
    },
    {
     "data": {
      "text/html": [
       "<style>/* Styles used for the Hoogle display in the pager */\n",
       ".hoogle-doc {\n",
       "display: block;\n",
       "padding-bottom: 1.3em;\n",
       "padding-left: 0.4em;\n",
       "}\n",
       ".hoogle-code {\n",
       "display: block;\n",
       "font-family: monospace;\n",
       "white-space: pre;\n",
       "}\n",
       ".hoogle-text {\n",
       "display: block;\n",
       "}\n",
       ".hoogle-name {\n",
       "color: green;\n",
       "font-weight: bold;\n",
       "}\n",
       ".hoogle-head {\n",
       "font-weight: bold;\n",
       "}\n",
       ".hoogle-sub {\n",
       "display: block;\n",
       "margin-left: 0.4em;\n",
       "}\n",
       ".hoogle-package {\n",
       "font-weight: bold;\n",
       "font-style: italic;\n",
       "}\n",
       ".hoogle-module {\n",
       "font-weight: bold;\n",
       "}\n",
       ".hoogle-class {\n",
       "font-weight: bold;\n",
       "}\n",
       ".get-type {\n",
       "color: green;\n",
       "font-weight: bold;\n",
       "font-family: monospace;\n",
       "display: block;\n",
       "white-space: pre-wrap;\n",
       "}\n",
       ".show-type {\n",
       "color: green;\n",
       "font-weight: bold;\n",
       "font-family: monospace;\n",
       "margin-left: 1em;\n",
       "}\n",
       ".mono {\n",
       "font-family: monospace;\n",
       "display: block;\n",
       "}\n",
       ".err-msg {\n",
       "color: red;\n",
       "font-style: italic;\n",
       "font-family: monospace;\n",
       "white-space: pre;\n",
       "display: block;\n",
       "}\n",
       "#unshowable {\n",
       "color: red;\n",
       "font-weight: bold;\n",
       "}\n",
       ".err-msg.in.collapse {\n",
       "padding-top: 0.7em;\n",
       "}\n",
       ".highlight-code {\n",
       "white-space: pre;\n",
       "font-family: monospace;\n",
       "}\n",
       ".suggestion-warning { \n",
       "font-weight: bold;\n",
       "color: rgb(200, 130, 0);\n",
       "}\n",
       ".suggestion-error { \n",
       "font-weight: bold;\n",
       "color: red;\n",
       "}\n",
       ".suggestion-name {\n",
       "font-weight: bold;\n",
       "}\n",
       "</style><span class='get-type'>['a','a','a'] :: [Char]</span>"
      ],
      "text/plain": [
       "['a','a','a'] :: [Char]"
      ]
     },
     "metadata": {},
     "output_type": "display_data"
    },
    {
     "data": {
      "text/html": [
       "<style>/* Styles used for the Hoogle display in the pager */\n",
       ".hoogle-doc {\n",
       "display: block;\n",
       "padding-bottom: 1.3em;\n",
       "padding-left: 0.4em;\n",
       "}\n",
       ".hoogle-code {\n",
       "display: block;\n",
       "font-family: monospace;\n",
       "white-space: pre;\n",
       "}\n",
       ".hoogle-text {\n",
       "display: block;\n",
       "}\n",
       ".hoogle-name {\n",
       "color: green;\n",
       "font-weight: bold;\n",
       "}\n",
       ".hoogle-head {\n",
       "font-weight: bold;\n",
       "}\n",
       ".hoogle-sub {\n",
       "display: block;\n",
       "margin-left: 0.4em;\n",
       "}\n",
       ".hoogle-package {\n",
       "font-weight: bold;\n",
       "font-style: italic;\n",
       "}\n",
       ".hoogle-module {\n",
       "font-weight: bold;\n",
       "}\n",
       ".hoogle-class {\n",
       "font-weight: bold;\n",
       "}\n",
       ".get-type {\n",
       "color: green;\n",
       "font-weight: bold;\n",
       "font-family: monospace;\n",
       "display: block;\n",
       "white-space: pre-wrap;\n",
       "}\n",
       ".show-type {\n",
       "color: green;\n",
       "font-weight: bold;\n",
       "font-family: monospace;\n",
       "margin-left: 1em;\n",
       "}\n",
       ".mono {\n",
       "font-family: monospace;\n",
       "display: block;\n",
       "}\n",
       ".err-msg {\n",
       "color: red;\n",
       "font-style: italic;\n",
       "font-family: monospace;\n",
       "white-space: pre;\n",
       "display: block;\n",
       "}\n",
       "#unshowable {\n",
       "color: red;\n",
       "font-weight: bold;\n",
       "}\n",
       ".err-msg.in.collapse {\n",
       "padding-top: 0.7em;\n",
       "}\n",
       ".highlight-code {\n",
       "white-space: pre;\n",
       "font-family: monospace;\n",
       "}\n",
       ".suggestion-warning { \n",
       "font-weight: bold;\n",
       "color: rgb(200, 130, 0);\n",
       "}\n",
       ".suggestion-error { \n",
       "font-weight: bold;\n",
       "color: red;\n",
       "}\n",
       ".suggestion-name {\n",
       "font-weight: bold;\n",
       "}\n",
       "</style><span class='get-type'>[\"a\"] :: [[Char]]</span>"
      ],
      "text/plain": [
       "[\"a\"] :: [[Char]]"
      ]
     },
     "metadata": {},
     "output_type": "display_data"
    },
    {
     "data": {
      "text/html": [
       "<style>/* Styles used for the Hoogle display in the pager */\n",
       ".hoogle-doc {\n",
       "display: block;\n",
       "padding-bottom: 1.3em;\n",
       "padding-left: 0.4em;\n",
       "}\n",
       ".hoogle-code {\n",
       "display: block;\n",
       "font-family: monospace;\n",
       "white-space: pre;\n",
       "}\n",
       ".hoogle-text {\n",
       "display: block;\n",
       "}\n",
       ".hoogle-name {\n",
       "color: green;\n",
       "font-weight: bold;\n",
       "}\n",
       ".hoogle-head {\n",
       "font-weight: bold;\n",
       "}\n",
       ".hoogle-sub {\n",
       "display: block;\n",
       "margin-left: 0.4em;\n",
       "}\n",
       ".hoogle-package {\n",
       "font-weight: bold;\n",
       "font-style: italic;\n",
       "}\n",
       ".hoogle-module {\n",
       "font-weight: bold;\n",
       "}\n",
       ".hoogle-class {\n",
       "font-weight: bold;\n",
       "}\n",
       ".get-type {\n",
       "color: green;\n",
       "font-weight: bold;\n",
       "font-family: monospace;\n",
       "display: block;\n",
       "white-space: pre-wrap;\n",
       "}\n",
       ".show-type {\n",
       "color: green;\n",
       "font-weight: bold;\n",
       "font-family: monospace;\n",
       "margin-left: 1em;\n",
       "}\n",
       ".mono {\n",
       "font-family: monospace;\n",
       "display: block;\n",
       "}\n",
       ".err-msg {\n",
       "color: red;\n",
       "font-style: italic;\n",
       "font-family: monospace;\n",
       "white-space: pre;\n",
       "display: block;\n",
       "}\n",
       "#unshowable {\n",
       "color: red;\n",
       "font-weight: bold;\n",
       "}\n",
       ".err-msg.in.collapse {\n",
       "padding-top: 0.7em;\n",
       "}\n",
       ".highlight-code {\n",
       "white-space: pre;\n",
       "font-family: monospace;\n",
       "}\n",
       ".suggestion-warning { \n",
       "font-weight: bold;\n",
       "color: rgb(200, 130, 0);\n",
       "}\n",
       ".suggestion-error { \n",
       "font-weight: bold;\n",
       "color: red;\n",
       "}\n",
       ".suggestion-name {\n",
       "font-weight: bold;\n",
       "}\n",
       "</style><span class='get-type'>[\"aa\"] :: [[Char]]</span>"
      ],
      "text/plain": [
       "[\"aa\"] :: [[Char]]"
      ]
     },
     "metadata": {},
     "output_type": "display_data"
    }
   ],
   "source": [
    "['a','a','a']\n",
    ":type ['a','a','a']\n",
    ":type [\"a\"]\n",
    ":type [\"aa\"]"
   ]
  },
  {
   "cell_type": "markdown",
   "metadata": {},
   "source": [
    "b. Of the values above that are well-typed, which have the same types, and what are they?"
   ]
  },
  {
   "cell_type": "markdown",
   "metadata": {},
   "source": [
    "Put yout solution here: ... \n"
   ]
  },
  {
   "cell_type": "raw",
   "metadata": {},
   "source": [
    "[Char] : ['a','a','a'] \"aaa\"  'a':\"aa\" ['a']++\"aa\"\n",
    "[[Char]]: [\"aaa\"]\n",
    "Syntax error: ['aaa'] 'a'++\"aa\"   [\"a\"]:[\"aa\"]"
   ]
  },
  {
   "cell_type": "markdown",
   "metadata": {},
   "source": [
    "c. Split these values into those which are tuples, and those which are lists:"
   ]
  },
  {
   "cell_type": "code",
   "execution_count": 9,
   "metadata": {},
   "outputs": [
    {
     "data": {
      "text/plain": [
       "(1,2,3)"
      ]
     },
     "metadata": {},
     "output_type": "display_data"
    },
    {
     "data": {
      "text/plain": [
       "[1,2,3]"
      ]
     },
     "metadata": {},
     "output_type": "display_data"
    },
    {
     "data": {
      "text/plain": [
       "[(1,2,3)]"
      ]
     },
     "metadata": {},
     "output_type": "display_data"
    },
    {
     "data": {
      "text/plain": [
       "[1,2,3]"
      ]
     },
     "metadata": {},
     "output_type": "display_data"
    }
   ],
   "source": [
    "(1,2,3) --tuple\n",
    "[1,2,3] --list of integers\n",
    "[(1,2,3)] --list of tuple\n",
    "([1,2,3])  --list"
   ]
  },
  {
   "cell_type": "markdown",
   "metadata": {},
   "source": [
    "## 2. CONDITIONALS"
   ]
  },
  {
   "cell_type": "markdown",
   "metadata": {},
   "source": [
    "The aim of this question is to give practice in the different ways to express conditionals, and how to translate between them. The two key ways are the use of `if.. then .. else ..` and guards. "
   ]
  },
  {
   "cell_type": "markdown",
   "metadata": {},
   "source": [
    "The basic scenario is that we have a sequence of conditions, each accompanied by a return value. We walk through the code evaluating the conditions, and on the first occasion one condition returns `True`, we return the associated return value. There are different ways of expressing this. `if..then..else..` works at the level of expressions (it is an expression you can use anywhere). Guards work at the level of definitions (declarations). The other possibility we use here is a `case` expression. This is an expression like `if..then..else..`, but derived from the more general pattern-matching definitions we'll see later. "
   ]
  },
  {
   "cell_type": "markdown",
   "metadata": {},
   "source": [
    "Here is the general structure: \n",
    "\n",
    "`conditional\n",
    "  condition1 -> return1\n",
    "  condition2 -> return2\n",
    "  ...\n",
    "  default -> returnk`\n",
    "  \n",
    "This corresponds to:\n",
    "\n",
    "`if condition1 then return1\n",
    " else if condition2 then return 2\n",
    " else ..\n",
    " else returnk`\n",
    " \n",
    "Or with guards: \n",
    "\n",
    "`... | condition1 = return1\n",
    "     | condition2 = return2\n",
    "     ...\n",
    "     | otherwise = returnk`\n",
    "     \n",
    "And in terms of case expressions, a nasty nesting:\n",
    "\n",
    "`case condition1 of \n",
    "   True -> return1\n",
    "   False -> \n",
    "     case condition2 of \n",
    "       True -> return2\n",
    "       False -> \n",
    "         case ... \n",
    "           False -> returnk`"
   ]
  },
  {
   "cell_type": "markdown",
   "metadata": {},
   "source": [
    "Here is a really stupid example of a function you would never want to write in the first place:"
   ]
  },
  {
   "cell_type": "code",
   "execution_count": 10,
   "metadata": {},
   "outputs": [],
   "source": [
    "whatIs name = \n",
    "  if name==\"Fido\" then \"Fido is a dog\"\n",
    "  else if name==\"Tiddles\" then \"Tiddles is a cat\"\n",
    "  else \"I don't know what \"++name++\" is\""
   ]
  },
  {
   "cell_type": "code",
   "execution_count": 11,
   "metadata": {},
   "outputs": [],
   "source": [
    "whatIs' name\n",
    "  | name == \"Fido\" = \"Fido is a dog\"\n",
    "  | name == \"Tiddles\" = \"Tiddles is a cat\"\n",
    "  | otherwise = \"I don't know what \" ++ name ++ \" is\""
   ]
  },
  {
   "cell_type": "code",
   "execution_count": 12,
   "metadata": {},
   "outputs": [
    {
     "ename": "",
     "evalue": "",
     "header": "MessageHeader {mhIdentifiers = [\"1a77eea3-aad6-4fd7-a557-2725cf745a96\"], mhParentHeader = Just (MessageHeader {mhIdentifiers = [\"1a77eea3-aad6-4fd7-a557-2725cf745a96\"], mhParentHeader = Nothing, mhMetadata = Metadata (fromList [(\"recordTiming\",Bool False),(\"deletedCells\",Array []),(\"cellId\",String \"d64ce318-fd5c-440e-afca-f2ffec443a0a\")]), mhMessageId = UUID {uuidToString = \"59434ea7-e5cc-45b2-9018-b47c61f90335\"}, mhSessionId = UUID {uuidToString = \"1a77eea3-aad6-4fd7-a557-2725cf745a96\"}, mhUsername = \"\", mhMsgType = ExecuteRequestMessage, mhBuffers = []}), mhMetadata = Metadata (fromList []), mhMessageId = UUID {uuidToString = \"57b55ebd-303c-48d7-ba6a-a02a1b2f85a5\"}, mhSessionId = UUID {uuidToString = \"1a77eea3-aad6-4fd7-a557-2725cf745a96\"}, mhUsername = \"\", mhMsgType = ExecuteErrorMessage, mhBuffers = []}",
     "output_type": "error",
     "traceback": [
      "<interactive>:3:5: error:\n    • Couldn't match expected type ‘Bool’ with actual type ‘Boolean’\n    • In the pattern: True\n      In a case alternative: True -> \"Fido is a dog\"\n      In the expression:\n        case name == \"Fido\" of\n          True -> \"Fido is a dog\"\n          False\n            -> case name == \"Tiddles\" of\n                 True -> \"Tiddles is a cat\"\n                 False -> \"I don't know what \" ++ name ++ \" is\"\n<interactive>:4:5: error:\n    • Couldn't match expected type ‘Bool’ with actual type ‘Boolean’\n    • In the pattern: False\n      In a case alternative:\n          False\n            -> case name == \"Tiddles\" of\n                 True -> \"Tiddles is a cat\"\n                 False -> \"I don't know what \" ++ name ++ \" is\"\n      In the expression:\n        case name == \"Fido\" of\n          True -> \"Fido is a dog\"\n          False\n            -> case name == \"Tiddles\" of\n                 True -> \"Tiddles is a cat\"\n                 False -> \"I don't know what \" ++ name ++ \" is\"\n<interactive>:6:9: error:\n    • Couldn't match expected type ‘Bool’ with actual type ‘Boolean’\n    • In the pattern: True\n      In a case alternative: True -> \"Tiddles is a cat\"\n      In the expression:\n        case name == \"Tiddles\" of\n          True -> \"Tiddles is a cat\"\n          False -> \"I don't know what \" ++ name ++ \" is\"\n<interactive>:7:9: error:\n    • Couldn't match expected type ‘Bool’ with actual type ‘Boolean’\n    • In the pattern: False\n      In a case alternative: False -> \"I don't know what \" ++ name ++ \" is\"\n      In the expression:\n        case name == \"Tiddles\" of\n          True -> \"Tiddles is a cat\"\n          False -> \"I don't know what \" ++ name ++ \" is\""
     ]
    }
   ],
   "source": [
    "whatIs'' name = \n",
    "  case name == \"Fido\" of \n",
    "    True -> \"Fido is a dog\"\n",
    "    False ->\n",
    "      case name == \"Tiddles\" of \n",
    "        True -> \"Tiddles is a cat\"\n",
    "        False -> \"I don't know what \" ++ name ++ \" is\""
   ]
  },
  {
   "cell_type": "code",
   "execution_count": 13,
   "metadata": {},
   "outputs": [
    {
     "ename": "",
     "evalue": "",
     "header": "MessageHeader {mhIdentifiers = [\"1a77eea3-aad6-4fd7-a557-2725cf745a96\"], mhParentHeader = Just (MessageHeader {mhIdentifiers = [\"1a77eea3-aad6-4fd7-a557-2725cf745a96\"], mhParentHeader = Nothing, mhMetadata = Metadata (fromList [(\"recordTiming\",Bool False),(\"deletedCells\",Array []),(\"cellId\",String \"20469c13-ee64-42f8-9229-34c84d513cf1\")]), mhMessageId = UUID {uuidToString = \"2c8d97a8-2a07-4681-a3a0-d6ca6b8ec320\"}, mhSessionId = UUID {uuidToString = \"1a77eea3-aad6-4fd7-a557-2725cf745a96\"}, mhUsername = \"\", mhMsgType = ExecuteRequestMessage, mhBuffers = []}), mhMetadata = Metadata (fromList []), mhMessageId = UUID {uuidToString = \"e00b959d-80e3-44b7-b906-c729f9445738\"}, mhSessionId = UUID {uuidToString = \"1a77eea3-aad6-4fd7-a557-2725cf745a96\"}, mhUsername = \"\", mhMsgType = ExecuteErrorMessage, mhBuffers = []}",
     "output_type": "error",
     "traceback": [
      "<interactive>:1:1: error:\n    • Variable not in scope: whatIs'' :: String -> t\n    • Perhaps you meant one of these: ‘whatIs'’ (line 1), ‘whatIs’ (line 1)"
     ]
    }
   ],
   "source": [
    "whatIs'' \"Fido\"\n",
    "whatIs'' \"Tiddles\"\n",
    "whatIs'' \"Bambi\""
   ]
  },
  {
   "cell_type": "markdown",
   "metadata": {},
   "source": [
    "a. This function on strings is defined using `if.. then .. else ..`"
   ]
  },
  {
   "cell_type": "code",
   "execution_count": 14,
   "metadata": {},
   "outputs": [],
   "source": [
    "-- This function on strings is defined using if.. then .. else\n",
    "check myname name =\n",
    "  if name == myname then \"hello\" else \"sorry, wrong person\""
   ]
  },
  {
   "cell_type": "markdown",
   "metadata": {},
   "source": [
    "Write tests below that execute each possible branch. You will need two tests. "
   ]
  },
  {
   "cell_type": "code",
   "execution_count": 15,
   "metadata": {},
   "outputs": [
    {
     "data": {
      "text/plain": [
       "\"hello\""
      ]
     },
     "metadata": {},
     "output_type": "display_data"
    }
   ],
   "source": [
    "check (\"yxl\") \"yxl\""
   ]
  },
  {
   "cell_type": "code",
   "execution_count": 16,
   "metadata": {},
   "outputs": [
    {
     "data": {
      "text/plain": [
       "\"sorry, wrong person\""
      ]
     },
     "metadata": {},
     "output_type": "display_data"
    }
   ],
   "source": [
    "check (\"yxl\") \"yl\""
   ]
  },
  {
   "cell_type": "markdown",
   "metadata": {},
   "source": [
    "Translate the declaration of `check` into one of a function using guards:"
   ]
  },
  {
   "cell_type": "code",
   "execution_count": 17,
   "metadata": {},
   "outputs": [],
   "source": [
    "check' (myname) name\n",
    "  | myname == name = \"hello\"\n",
    "  | otherwise = \"sorry, wrong person\""
   ]
  },
  {
   "cell_type": "code",
   "execution_count": 18,
   "metadata": {},
   "outputs": [
    {
     "data": {
      "text/plain": [
       "\"sorry, wrong person\""
      ]
     },
     "metadata": {},
     "output_type": "display_data"
    }
   ],
   "source": [
    "check' (\"yxl\") \"yl\""
   ]
  },
  {
   "cell_type": "markdown",
   "metadata": {},
   "source": [
    "Translate it again into a function using a case expression on Bool."
   ]
  },
  {
   "cell_type": "code",
   "execution_count": 19,
   "metadata": {},
   "outputs": [
    {
     "ename": "",
     "evalue": "",
     "header": "MessageHeader {mhIdentifiers = [\"1a77eea3-aad6-4fd7-a557-2725cf745a96\"], mhParentHeader = Just (MessageHeader {mhIdentifiers = [\"1a77eea3-aad6-4fd7-a557-2725cf745a96\"], mhParentHeader = Nothing, mhMetadata = Metadata (fromList [(\"recordTiming\",Bool False),(\"deletedCells\",Array []),(\"cellId\",String \"7086492f-5eb2-4616-b282-78b8840b1ea5\")]), mhMessageId = UUID {uuidToString = \"c81f6ad1-43ff-4591-a28a-b0a992cc9cd0\"}, mhSessionId = UUID {uuidToString = \"1a77eea3-aad6-4fd7-a557-2725cf745a96\"}, mhUsername = \"\", mhMsgType = ExecuteRequestMessage, mhBuffers = []}), mhMetadata = Metadata (fromList []), mhMessageId = UUID {uuidToString = \"467147e3-e545-4b1a-94b5-a947e0cecdb5\"}, mhSessionId = UUID {uuidToString = \"1a77eea3-aad6-4fd7-a557-2725cf745a96\"}, mhUsername = \"\", mhMsgType = ExecuteErrorMessage, mhBuffers = []}",
     "output_type": "error",
     "traceback": [
      "<interactive>:3:5: error:\n    • Couldn't match expected type ‘Bool’ with actual type ‘Boolean’\n    • In the pattern: True\n      In a case alternative: True -> \"hello\"\n      In the expression:\n        case myname == name of\n          True -> \"hello\"\n          False -> \"sorry, wrong person\"\n<interactive>:4:5: error:\n    • Couldn't match expected type ‘Bool’ with actual type ‘Boolean’\n    • In the pattern: False\n      In a case alternative: False -> \"sorry, wrong person\"\n      In the expression:\n        case myname == name of\n          True -> \"hello\"\n          False -> \"sorry, wrong person\""
     ]
    }
   ],
   "source": [
    "check'' myname name =\n",
    "  case myname == name of \n",
    "    True -> \"hello\"\n",
    "    False -> \"sorry, wrong person\""
   ]
  },
  {
   "cell_type": "code",
   "execution_count": 20,
   "metadata": {},
   "outputs": [
    {
     "ename": "",
     "evalue": "",
     "header": "MessageHeader {mhIdentifiers = [\"1a77eea3-aad6-4fd7-a557-2725cf745a96\"], mhParentHeader = Just (MessageHeader {mhIdentifiers = [\"1a77eea3-aad6-4fd7-a557-2725cf745a96\"], mhParentHeader = Nothing, mhMetadata = Metadata (fromList [(\"recordTiming\",Bool False),(\"deletedCells\",Array []),(\"cellId\",String \"fe4d0d47-2ecf-41b9-b6a2-7ef40c0f4d5f\")]), mhMessageId = UUID {uuidToString = \"53f78276-d672-4a73-9e56-86495c87480d\"}, mhSessionId = UUID {uuidToString = \"1a77eea3-aad6-4fd7-a557-2725cf745a96\"}, mhUsername = \"\", mhMsgType = ExecuteRequestMessage, mhBuffers = []}), mhMetadata = Metadata (fromList []), mhMessageId = UUID {uuidToString = \"98fbff98-6d36-4194-a209-9e9f533e4df2\"}, mhSessionId = UUID {uuidToString = \"1a77eea3-aad6-4fd7-a557-2725cf745a96\"}, mhUsername = \"\", mhMsgType = ExecuteErrorMessage, mhBuffers = []}",
     "output_type": "error",
     "traceback": [
      "<interactive>:1:1: error:\n    • Variable not in scope: check'' :: String -> String -> t\n    • Perhaps you meant one of these: ‘check'’ (line 1), ‘check’ (line 1)"
     ]
    }
   ],
   "source": [
    "check'' \"yxl\" \"yxl\""
   ]
  },
  {
   "cell_type": "markdown",
   "metadata": {},
   "source": [
    "b. This factorial function is defined using guards"
   ]
  },
  {
   "cell_type": "code",
   "execution_count": 21,
   "metadata": {},
   "outputs": [],
   "source": [
    "fact x |  x == 0    = 1\n",
    "       |  otherwise = x * fact (x-1)"
   ]
  },
  {
   "cell_type": "markdown",
   "metadata": {},
   "source": [
    "Test this on numbers 0 to 10 by running the code below: "
   ]
  },
  {
   "cell_type": "code",
   "execution_count": 22,
   "metadata": {},
   "outputs": [
    {
     "data": {
      "text/plain": [
       "[1,1,2,6,24,120,720,5040,40320,362880,3628800]"
      ]
     },
     "metadata": {},
     "output_type": "display_data"
    }
   ],
   "source": [
    "map fact [0..10]"
   ]
  },
  {
   "cell_type": "markdown",
   "metadata": {},
   "source": [
    "Translate the declaration of `fact` into a declaration using `if.. then .. else ..`."
   ]
  },
  {
   "cell_type": "code",
   "execution_count": 23,
   "metadata": {},
   "outputs": [],
   "source": [
    "fact' x = if x == 0 then 1 else x * fact'(x-1)"
   ]
  },
  {
   "cell_type": "code",
   "execution_count": 24,
   "metadata": {},
   "outputs": [
    {
     "data": {
      "text/plain": [
       "24"
      ]
     },
     "metadata": {},
     "output_type": "display_data"
    }
   ],
   "source": [
    "fact' 4"
   ]
  },
  {
   "cell_type": "markdown",
   "metadata": {},
   "source": [
    "Translate it again into a function using a case expression on Bool."
   ]
  },
  {
   "cell_type": "code",
   "execution_count": 25,
   "metadata": {},
   "outputs": [
    {
     "ename": "",
     "evalue": "",
     "header": "MessageHeader {mhIdentifiers = [\"1a77eea3-aad6-4fd7-a557-2725cf745a96\"], mhParentHeader = Just (MessageHeader {mhIdentifiers = [\"1a77eea3-aad6-4fd7-a557-2725cf745a96\"], mhParentHeader = Nothing, mhMetadata = Metadata (fromList [(\"recordTiming\",Bool False),(\"deletedCells\",Array []),(\"cellId\",String \"831352db-2260-4b8e-a98a-5d859bb0051b\")]), mhMessageId = UUID {uuidToString = \"83db3ef0-c0cc-411d-8f37-0ba1db7b55a2\"}, mhSessionId = UUID {uuidToString = \"1a77eea3-aad6-4fd7-a557-2725cf745a96\"}, mhUsername = \"\", mhMsgType = ExecuteRequestMessage, mhBuffers = []}), mhMetadata = Metadata (fromList []), mhMessageId = UUID {uuidToString = \"1daf6239-8a62-47ab-ac7e-160d046d91aa\"}, mhSessionId = UUID {uuidToString = \"1a77eea3-aad6-4fd7-a557-2725cf745a96\"}, mhUsername = \"\", mhMsgType = ExecuteErrorMessage, mhBuffers = []}",
     "output_type": "error",
     "traceback": [
      "<interactive>:3:5: error:\n    • Couldn't match expected type ‘Bool’ with actual type ‘Boolean’\n    • In the pattern: True\n      In a case alternative: True -> 1\n      In the expression:\n        case x == 0 of\n          True -> 1\n          False -> fact'' (x - 1) * x\n<interactive>:4:5: error:\n    • Couldn't match expected type ‘Bool’ with actual type ‘Boolean’\n    • In the pattern: False\n      In a case alternative: False -> fact'' (x - 1) * x\n      In the expression:\n        case x == 0 of\n          True -> 1\n          False -> fact'' (x - 1) * x"
     ]
    }
   ],
   "source": [
    "fact'' x = \n",
    "  case x == 0 of\n",
    "    True -> 1\n",
    "    False -> fact''(x - 1) * x\n",
    "  "
   ]
  },
  {
   "cell_type": "code",
   "execution_count": 26,
   "metadata": {},
   "outputs": [
    {
     "ename": "",
     "evalue": "",
     "header": "MessageHeader {mhIdentifiers = [\"1a77eea3-aad6-4fd7-a557-2725cf745a96\"], mhParentHeader = Just (MessageHeader {mhIdentifiers = [\"1a77eea3-aad6-4fd7-a557-2725cf745a96\"], mhParentHeader = Nothing, mhMetadata = Metadata (fromList [(\"recordTiming\",Bool False),(\"deletedCells\",Array []),(\"cellId\",String \"32f85764-e516-4a37-a469-1e51c49d71ed\")]), mhMessageId = UUID {uuidToString = \"3d233a78-9c59-44d1-a451-c3b78b975d96\"}, mhSessionId = UUID {uuidToString = \"1a77eea3-aad6-4fd7-a557-2725cf745a96\"}, mhUsername = \"\", mhMsgType = ExecuteRequestMessage, mhBuffers = []}), mhMetadata = Metadata (fromList []), mhMessageId = UUID {uuidToString = \"6152ff8e-b4c6-467e-bdb6-f70896e59790\"}, mhSessionId = UUID {uuidToString = \"1a77eea3-aad6-4fd7-a557-2725cf745a96\"}, mhUsername = \"\", mhMsgType = ExecuteErrorMessage, mhBuffers = []}",
     "output_type": "error",
     "traceback": [
      "<interactive>:1:1: error:\n    • Variable not in scope: fact'' :: t0 -> t\n    • Perhaps you meant one of these: ‘fact'’ (line 1), ‘fact’ (line 1)"
     ]
    }
   ],
   "source": [
    "fact'' 4"
   ]
  },
  {
   "cell_type": "markdown",
   "metadata": {},
   "source": [
    "Test your solutions against the reference solution by running:"
   ]
  },
  {
   "cell_type": "code",
   "execution_count": 27,
   "metadata": {},
   "outputs": [
    {
     "ename": "",
     "evalue": "",
     "header": "MessageHeader {mhIdentifiers = [\"1a77eea3-aad6-4fd7-a557-2725cf745a96\"], mhParentHeader = Just (MessageHeader {mhIdentifiers = [\"1a77eea3-aad6-4fd7-a557-2725cf745a96\"], mhParentHeader = Nothing, mhMetadata = Metadata (fromList [(\"recordTiming\",Bool False),(\"deletedCells\",Array []),(\"cellId\",String \"c0fafb3c-978f-4e87-814c-21f8bba07218\")]), mhMessageId = UUID {uuidToString = \"6fe5245f-86c9-4df4-8a37-a0510b6052a1\"}, mhSessionId = UUID {uuidToString = \"1a77eea3-aad6-4fd7-a557-2725cf745a96\"}, mhUsername = \"\", mhMsgType = ExecuteRequestMessage, mhBuffers = []}), mhMetadata = Metadata (fromList []), mhMessageId = UUID {uuidToString = \"f5f0ba0d-f4d1-4694-829c-a542cf6c4bd8\"}, mhSessionId = UUID {uuidToString = \"1a77eea3-aad6-4fd7-a557-2725cf745a96\"}, mhUsername = \"\", mhMsgType = ExecuteErrorMessage, mhBuffers = []}",
     "output_type": "error",
     "traceback": [
      "<interactive>:2:37: error:\n    • Variable not in scope: fact'' :: a0 -> b0\n    • Perhaps you meant one of these: ‘fact'’ (line 1), ‘fact’ (line 1)"
     ]
    }
   ],
   "source": [
    "factTest1 = map fact [0..10] == map fact' [0..10]\n",
    "factTest2 = map fact [0..10] == map fact'' [0..10]"
   ]
  },
  {
   "cell_type": "code",
   "execution_count": 28,
   "metadata": {},
   "outputs": [
    {
     "ename": "",
     "evalue": "",
     "header": "MessageHeader {mhIdentifiers = [\"1a77eea3-aad6-4fd7-a557-2725cf745a96\"], mhParentHeader = Just (MessageHeader {mhIdentifiers = [\"1a77eea3-aad6-4fd7-a557-2725cf745a96\"], mhParentHeader = Nothing, mhMetadata = Metadata (fromList [(\"recordTiming\",Bool False),(\"deletedCells\",Array []),(\"cellId\",String \"0fb519d2-6f63-433b-a87e-08389cfe49f4\")]), mhMessageId = UUID {uuidToString = \"84802a73-5559-42e4-97a3-95e332f7833b\"}, mhSessionId = UUID {uuidToString = \"1a77eea3-aad6-4fd7-a557-2725cf745a96\"}, mhUsername = \"\", mhMsgType = ExecuteRequestMessage, mhBuffers = []}), mhMetadata = Metadata (fromList []), mhMessageId = UUID {uuidToString = \"15334151-8e06-4184-8e52-8c3a84a1aee8\"}, mhSessionId = UUID {uuidToString = \"1a77eea3-aad6-4fd7-a557-2725cf745a96\"}, mhUsername = \"\", mhMsgType = ExecuteErrorMessage, mhBuffers = []}",
     "output_type": "error",
     "traceback": [
      "<interactive>:1:1: error: Variable not in scope: factTest1"
     ]
    }
   ],
   "source": [
    "factTest1\n",
    "factTest2 "
   ]
  },
  {
   "cell_type": "markdown",
   "metadata": {},
   "source": [
    "c. This exponential function is defined using a case expression. "
   ]
  },
  {
   "cell_type": "code",
   "execution_count": 29,
   "metadata": {},
   "outputs": [
    {
     "ename": "",
     "evalue": "",
     "header": "MessageHeader {mhIdentifiers = [\"1a77eea3-aad6-4fd7-a557-2725cf745a96\"], mhParentHeader = Just (MessageHeader {mhIdentifiers = [\"1a77eea3-aad6-4fd7-a557-2725cf745a96\"], mhParentHeader = Nothing, mhMetadata = Metadata (fromList [(\"recordTiming\",Bool False),(\"deletedCells\",Array []),(\"cellId\",String \"44bf88e1-3b9c-4732-836f-6bfc479fdfdc\")]), mhMessageId = UUID {uuidToString = \"badb5737-82e1-4afa-b34f-11327894153e\"}, mhSessionId = UUID {uuidToString = \"1a77eea3-aad6-4fd7-a557-2725cf745a96\"}, mhUsername = \"\", mhMsgType = ExecuteRequestMessage, mhBuffers = []}), mhMetadata = Metadata (fromList []), mhMessageId = UUID {uuidToString = \"75ce5ed7-9e3a-47fe-96bf-1141a1878c5d\"}, mhSessionId = UUID {uuidToString = \"1a77eea3-aad6-4fd7-a557-2725cf745a96\"}, mhUsername = \"\", mhMsgType = ExecuteErrorMessage, mhBuffers = []}",
     "output_type": "error",
     "traceback": [
      "<interactive>:3:6: error:\n    • Couldn't match expected type ‘Bool’ with actual type ‘Boolean’\n    • In the pattern: True\n      In a case alternative: True -> 1\n      In the expression:\n        case b == 0 of\n          True -> 1\n          False -> a * expCase a (b - 1)\n<interactive>:4:6: error:\n    • Couldn't match expected type ‘Bool’ with actual type ‘Boolean’\n    • In the pattern: False\n      In a case alternative: False -> a * expCase a (b - 1)\n      In the expression:\n        case b == 0 of\n          True -> 1\n          False -> a * expCase a (b - 1)"
     ]
    }
   ],
   "source": [
    "--exp' :: Int -> Int -> Int\n",
    "expCase a b =\n",
    "   case b==0 of\n",
    "     True -> 1\n",
    "     False -> a * expCase a (b-1)"
   ]
  },
  {
   "cell_type": "markdown",
   "metadata": {},
   "source": [
    "Test this on various inputs by running the code below: "
   ]
  },
  {
   "cell_type": "code",
   "execution_count": 30,
   "metadata": {},
   "outputs": [
    {
     "ename": "",
     "evalue": "",
     "header": "MessageHeader {mhIdentifiers = [\"1a77eea3-aad6-4fd7-a557-2725cf745a96\"], mhParentHeader = Just (MessageHeader {mhIdentifiers = [\"1a77eea3-aad6-4fd7-a557-2725cf745a96\"], mhParentHeader = Nothing, mhMetadata = Metadata (fromList [(\"recordTiming\",Bool False),(\"deletedCells\",Array []),(\"cellId\",String \"075277e1-3465-408f-bb9b-3517419ff160\")]), mhMessageId = UUID {uuidToString = \"eb58cccd-dab4-45a9-82cb-8b402841e2f6\"}, mhSessionId = UUID {uuidToString = \"1a77eea3-aad6-4fd7-a557-2725cf745a96\"}, mhUsername = \"\", mhMsgType = ExecuteRequestMessage, mhBuffers = []}), mhMetadata = Metadata (fromList []), mhMessageId = UUID {uuidToString = \"cc9ff685-aa47-4233-b9ee-1dfdfeaf58a7\"}, mhSessionId = UUID {uuidToString = \"1a77eea3-aad6-4fd7-a557-2725cf745a96\"}, mhUsername = \"\", mhMsgType = ExecuteErrorMessage, mhBuffers = []}",
     "output_type": "error",
     "traceback": [
      "<interactive>:1:6: error: Variable not in scope: expCase :: t0 -> a0 -> b"
     ]
    }
   ],
   "source": [
    "map (expCase 1) [1..10]\n",
    "map (expCase 2) [1..10]\n",
    "map (expCase 3) [1..10]"
   ]
  },
  {
   "cell_type": "markdown",
   "metadata": {},
   "source": [
    "Translate it into definitions using `if.. then .. else ..`."
   ]
  },
  {
   "cell_type": "code",
   "execution_count": 31,
   "metadata": {},
   "outputs": [],
   "source": [
    "expIf a b = \n",
    "  if b == 0 then 1 \n",
    "  else a * expIf a (b - 1)"
   ]
  },
  {
   "cell_type": "markdown",
   "metadata": {},
   "source": [
    "Translate it into a definition using guards. "
   ]
  },
  {
   "cell_type": "code",
   "execution_count": 32,
   "metadata": {},
   "outputs": [],
   "source": [
    "expGuard a b\n",
    "    | b == 0 = 1\n",
    "    | otherwise = a * expGuard a (b - 1)"
   ]
  },
  {
   "cell_type": "markdown",
   "metadata": {},
   "source": [
    "Test your solutions against the reference solution by running:"
   ]
  },
  {
   "cell_type": "code",
   "execution_count": 33,
   "metadata": {},
   "outputs": [
    {
     "ename": "",
     "evalue": "",
     "header": "MessageHeader {mhIdentifiers = [\"1a77eea3-aad6-4fd7-a557-2725cf745a96\"], mhParentHeader = Just (MessageHeader {mhIdentifiers = [\"1a77eea3-aad6-4fd7-a557-2725cf745a96\"], mhParentHeader = Nothing, mhMetadata = Metadata (fromList [(\"recordTiming\",Bool False),(\"deletedCells\",Array []),(\"cellId\",String \"e31da14a-d4a5-4327-a2d4-3df549435d48\")]), mhMessageId = UUID {uuidToString = \"de185019-31fc-4cac-834c-3cd57fd5635a\"}, mhSessionId = UUID {uuidToString = \"1a77eea3-aad6-4fd7-a557-2725cf745a96\"}, mhUsername = \"\", mhMsgType = ExecuteRequestMessage, mhBuffers = []}), mhMetadata = Metadata (fromList []), mhMessageId = UUID {uuidToString = \"22ac5033-5c4e-4903-af55-ef0120d25ee5\"}, mhSessionId = UUID {uuidToString = \"1a77eea3-aad6-4fd7-a557-2725cf745a96\"}, mhUsername = \"\", mhMsgType = ExecuteErrorMessage, mhBuffers = []}",
     "output_type": "error",
     "traceback": [
      "<interactive>:4:18: error: Variable not in scope: expCase :: t0 -> a0 -> b0\n<interactive>:3:18: error: Variable not in scope: expCase :: t2 -> a1 -> b1\n<interactive>:2:18: error: Variable not in scope: expCase :: t4 -> a2 -> b2\n<interactive>:1:18: error: Variable not in scope: expCase :: t6 -> a3 -> b3"
     ]
    }
   ],
   "source": [
    "expTest2a = map (expCase 2) [0..10] == map (expIf 2) [0..10]\n",
    "expTest3a = map (expCase 3) [0..10] == map (expIf 3) [0..10]\n",
    "expTest2b = map (expCase 2) [0..10] == map (expGuard 2) [0..10]\n",
    "expTest3b = map (expCase 3) [0..10] == map (expGuard 3) [0..10]"
   ]
  },
  {
   "cell_type": "code",
   "execution_count": 34,
   "metadata": {},
   "outputs": [
    {
     "ename": "",
     "evalue": "",
     "header": "MessageHeader {mhIdentifiers = [\"1a77eea3-aad6-4fd7-a557-2725cf745a96\"], mhParentHeader = Just (MessageHeader {mhIdentifiers = [\"1a77eea3-aad6-4fd7-a557-2725cf745a96\"], mhParentHeader = Nothing, mhMetadata = Metadata (fromList [(\"recordTiming\",Bool False),(\"deletedCells\",Array []),(\"cellId\",String \"f230810e-4f9d-4de7-bad6-f83a73dc9ca8\")]), mhMessageId = UUID {uuidToString = \"fdc2ecd0-db5b-4105-a432-cd1255b2329d\"}, mhSessionId = UUID {uuidToString = \"1a77eea3-aad6-4fd7-a557-2725cf745a96\"}, mhUsername = \"\", mhMsgType = ExecuteRequestMessage, mhBuffers = []}), mhMetadata = Metadata (fromList []), mhMessageId = UUID {uuidToString = \"353ca7d3-cfe0-41fd-ac7f-febae57e299b\"}, mhSessionId = UUID {uuidToString = \"1a77eea3-aad6-4fd7-a557-2725cf745a96\"}, mhUsername = \"\", mhMsgType = ExecuteErrorMessage, mhBuffers = []}",
     "output_type": "error",
     "traceback": [
      "<interactive>:1:1: error: Variable not in scope: expTest2a"
     ]
    }
   ],
   "source": [
    "expTest2a\n",
    "expTest3a\n",
    "expTest2b\n",
    "expTest3b"
   ]
  },
  {
   "cell_type": "markdown",
   "metadata": {},
   "source": [
    "d. This is an old stager. Fizzbuzz is a children's game where you count upwards, but if a number is divisible by 3, then you say \"fizz\", if it's divisible by 5 you say \"buzz\" and if it's divisible by fifteen you say \"fizzbuzz\". \n",
    "So it goes \"One, two, fizz, four, buzz, fizz, seven, eight, fizz, ... , fourteen, fizzbuzz, sixteen,..\". The aim of this question is to write a Haskell function fizzbuzz that returns \"fizz\" if the number is divisible by 3, \"buzz\" if it is divisible by 5, \"fizzbuzz\" if it is divisible by 15 and the empty string \"\" otherwise, just to keep things simple. "
   ]
  },
  {
   "cell_type": "markdown",
   "metadata": {},
   "source": [
    "Do this with guards here: "
   ]
  },
  {
   "cell_type": "code",
   "execution_count": 35,
   "metadata": {},
   "outputs": [],
   "source": [
    "fizzbuzz n \n",
    "  | n `mod` 15 == 0 = \"fizzbuzz\"\n",
    "  | n `mod` 3 == 0 = \"fizz\"\n",
    "  | n `mod` 5 == 0 = \"buzz\"\n",
    "  | otherwise = show n"
   ]
  },
  {
   "cell_type": "code",
   "execution_count": 36,
   "metadata": {},
   "outputs": [
    {
     "data": {
      "text/plain": [
       "\"fizzbuzz\""
      ]
     },
     "metadata": {},
     "output_type": "display_data"
    }
   ],
   "source": [
    "fizzbuzz 15"
   ]
  },
  {
   "cell_type": "markdown",
   "metadata": {},
   "source": [
    "And with `if..then..else..` here: "
   ]
  },
  {
   "cell_type": "code",
   "execution_count": 37,
   "metadata": {},
   "outputs": [],
   "source": [
    "fizzbuzz' n = \n",
    "  if n `mod` 15 == 0 then \"fizzbuzz\"\n",
    "  else if n `mod` 3 == 0 then \"fizz\"\n",
    "  else if n `mod` 5 == 0 then \"buzz\"\n",
    "  else show n\n",
    "    "
   ]
  },
  {
   "cell_type": "code",
   "execution_count": 38,
   "metadata": {},
   "outputs": [
    {
     "data": {
      "text/plain": [
       "\"buzz\""
      ]
     },
     "metadata": {},
     "output_type": "display_data"
    }
   ],
   "source": [
    "fizzbuzz' 55"
   ]
  },
  {
   "cell_type": "markdown",
   "metadata": {},
   "source": [
    "Test your functions on the numbers 0 to 16: "
   ]
  },
  {
   "cell_type": "code",
   "execution_count": 39,
   "metadata": {},
   "outputs": [
    {
     "data": {
      "text/plain": [
       "[\"fizzbuzz\",\"1\",\"2\",\"fizz\",\"4\",\"buzz\",\"fizz\",\"7\",\"8\",\"fizz\",\"buzz\",\"11\",\"fizz\",\"13\",\"14\",\"fizzbuzz\",\"16\",\"17\",\"fizz\",\"19\",\"buzz\",\"fizz\",\"22\",\"23\",\"fizz\",\"buzz\",\"26\",\"fizz\",\"28\",\"29\",\"fizzbuzz\",\"31\",\"32\",\"fizz\",\"34\",\"buzz\",\"fizz\",\"37\",\"38\",\"fizz\",\"buzz\",\"41\",\"fizz\",\"43\",\"44\",\"fizzbuzz\",\"46\",\"47\",\"fizz\",\"49\",\"buzz\"]"
      ]
     },
     "metadata": {},
     "output_type": "display_data"
    }
   ],
   "source": [
    "map fizzbuzz [0..50]"
   ]
  },
  {
   "cell_type": "markdown",
   "metadata": {},
   "source": [
    "## 3. Pattern Matching"
   ]
  },
  {
   "cell_type": "markdown",
   "metadata": {},
   "source": [
    "When you write a function definition, like:"
   ]
  },
  {
   "cell_type": "code",
   "execution_count": 40,
   "metadata": {},
   "outputs": [],
   "source": [
    "hypotenuse a b = sqrt (a*a + b*b)"
   ]
  },
  {
   "cell_type": "markdown",
   "metadata": {},
   "source": [
    "`a` and `b` represent things the function can be applied to. In this case they are just variables. But they can also be **patterns**. "
   ]
  },
  {
   "cell_type": "code",
   "execution_count": 41,
   "metadata": {},
   "outputs": [],
   "source": [
    "foo [] = 0\n",
    "foo (x:xs) = x + foo xs"
   ]
  },
  {
   "cell_type": "code",
   "execution_count": 42,
   "metadata": {},
   "outputs": [
    {
     "data": {
      "text/plain": [
       "1"
      ]
     },
     "metadata": {},
     "output_type": "display_data"
    }
   ],
   "source": [
    "foo [1]"
   ]
  },
  {
   "cell_type": "markdown",
   "metadata": {},
   "source": [
    "In the code above `[]` and `x:xs` are patterns. The first clause gives a definition that works for empty lists, and the second one for non-empty lists. So we can write definitions by cases, where the case depends on whether a list is empty or not. Moreover, it lets us use something (`x`) for the head of the list, and something else (`xs`) for the tail, so we can access the components. "
   ]
  },
  {
   "cell_type": "markdown",
   "metadata": {},
   "source": [
    "This means we can use this mechanism to implement versions of the standard `head` and `tail` functions. "
   ]
  },
  {
   "cell_type": "code",
   "execution_count": 43,
   "metadata": {},
   "outputs": [],
   "source": [
    "head' (x:xs) = x\n",
    "tail' (x:xs) = xs"
   ]
  },
  {
   "cell_type": "code",
   "execution_count": 44,
   "metadata": {},
   "outputs": [
    {
     "data": {
      "text/plain": [
       "1"
      ]
     },
     "metadata": {},
     "output_type": "display_data"
    },
    {
     "data": {
      "text/plain": [
       "[2,3,4]"
      ]
     },
     "metadata": {},
     "output_type": "display_data"
    }
   ],
   "source": [
    "head' [1..4]\n",
    "tail' [1..4]"
   ]
  },
  {
   "cell_type": "markdown",
   "metadata": {},
   "source": [
    "We can use the same mechanism to implement versions of the first and second projection functions: "
   ]
  },
  {
   "cell_type": "code",
   "execution_count": 45,
   "metadata": {},
   "outputs": [],
   "source": [
    "fst' (x,y) = x"
   ]
  },
  {
   "cell_type": "code",
   "execution_count": 46,
   "metadata": {},
   "outputs": [
    {
     "data": {
      "text/plain": [
       "\"carrot\""
      ]
     },
     "metadata": {},
     "output_type": "display_data"
    }
   ],
   "source": [
    "fst' (\"carrot\",3)"
   ]
  },
  {
   "cell_type": "markdown",
   "metadata": {},
   "source": [
    "Implement `snd'` for yourself, below."
   ]
  },
  {
   "cell_type": "code",
   "execution_count": 47,
   "metadata": {},
   "outputs": [],
   "source": [
    "snd' (x,y) = y"
   ]
  },
  {
   "cell_type": "code",
   "execution_count": 48,
   "metadata": {},
   "outputs": [
    {
     "data": {
      "text/plain": [
       "3"
      ]
     },
     "metadata": {},
     "output_type": "display_data"
    }
   ],
   "source": [
    "snd' (\"carrot\",3)"
   ]
  },
  {
   "cell_type": "markdown",
   "metadata": {},
   "source": [
    "In this case the pattern is `(x,y)`. The function has a single argument, it has to be a pair, and you can use `x` for the first component of the pair, and `y` for the second. (That should help you with the task above if you needed a hint). "
   ]
  },
  {
   "cell_type": "markdown",
   "metadata": {},
   "source": [
    "You can also use the booleans `True` and `False` as patterns. This, essentially allows you to reduce if..then..else to  a definition by cases: "
   ]
  },
  {
   "cell_type": "code",
   "execution_count": 49,
   "metadata": {},
   "outputs": [],
   "source": [
    "cond True caseTrue caseFalse = caseTrue\n",
    "cond False caseTrue caseFalse = caseFalse"
   ]
  },
  {
   "cell_type": "code",
   "execution_count": 50,
   "metadata": {},
   "outputs": [
    {
     "ename": "",
     "evalue": "",
     "header": "MessageHeader {mhIdentifiers = [\"1a77eea3-aad6-4fd7-a557-2725cf745a96\"], mhParentHeader = Just (MessageHeader {mhIdentifiers = [\"1a77eea3-aad6-4fd7-a557-2725cf745a96\"], mhParentHeader = Nothing, mhMetadata = Metadata (fromList [(\"recordTiming\",Bool False),(\"deletedCells\",Array []),(\"cellId\",String \"c2dd7109-fcb8-4dc1-89a2-196a81b304ae\")]), mhMessageId = UUID {uuidToString = \"183d77da-10b1-4ff9-b33e-59767425c919\"}, mhSessionId = UUID {uuidToString = \"1a77eea3-aad6-4fd7-a557-2725cf745a96\"}, mhUsername = \"\", mhMsgType = ExecuteRequestMessage, mhBuffers = []}), mhMetadata = Metadata (fromList []), mhMessageId = UUID {uuidToString = \"17c18b62-2a92-4534-bade-32ae6c99a317\"}, mhSessionId = UUID {uuidToString = \"1a77eea3-aad6-4fd7-a557-2725cf745a96\"}, mhUsername = \"\", mhMsgType = ExecuteErrorMessage, mhBuffers = []}",
     "output_type": "error",
     "traceback": [
      "<interactive>:3:28: error:\n    • Couldn't match expected type ‘Boolean’ with actual type ‘Bool’\n    • In the first argument of ‘cond’, namely ‘(name == myname)’\n      In the expression: cond (name == myname) \"hello\" \"sorry, wrong person\"\n      In an equation for ‘check'’: check' myname name = cond (name == myname) \"hello\" \"sorry, wrong person\""
     ]
    }
   ],
   "source": [
    "check myname name =\n",
    "  if name == myname then \"hello\" else \"sorry, wrong person\"\n",
    "check' myname name = cond (name == myname) \"hello\" \"sorry, wrong person\""
   ]
  },
  {
   "cell_type": "markdown",
   "metadata": {},
   "source": [
    "Implement the function `nonEmpty`, which returns `True` for a non-empty list, and `False` for an empty one using a pattern-matching definition as above. "
   ]
  },
  {
   "cell_type": "code",
   "execution_count": 51,
   "metadata": {},
   "outputs": [
    {
     "data": {
      "text/html": [
       "<style>/* Styles used for the Hoogle display in the pager */\n",
       ".hoogle-doc {\n",
       "display: block;\n",
       "padding-bottom: 1.3em;\n",
       "padding-left: 0.4em;\n",
       "}\n",
       ".hoogle-code {\n",
       "display: block;\n",
       "font-family: monospace;\n",
       "white-space: pre;\n",
       "}\n",
       ".hoogle-text {\n",
       "display: block;\n",
       "}\n",
       ".hoogle-name {\n",
       "color: green;\n",
       "font-weight: bold;\n",
       "}\n",
       ".hoogle-head {\n",
       "font-weight: bold;\n",
       "}\n",
       ".hoogle-sub {\n",
       "display: block;\n",
       "margin-left: 0.4em;\n",
       "}\n",
       ".hoogle-package {\n",
       "font-weight: bold;\n",
       "font-style: italic;\n",
       "}\n",
       ".hoogle-module {\n",
       "font-weight: bold;\n",
       "}\n",
       ".hoogle-class {\n",
       "font-weight: bold;\n",
       "}\n",
       ".get-type {\n",
       "color: green;\n",
       "font-weight: bold;\n",
       "font-family: monospace;\n",
       "display: block;\n",
       "white-space: pre-wrap;\n",
       "}\n",
       ".show-type {\n",
       "color: green;\n",
       "font-weight: bold;\n",
       "font-family: monospace;\n",
       "margin-left: 1em;\n",
       "}\n",
       ".mono {\n",
       "font-family: monospace;\n",
       "display: block;\n",
       "}\n",
       ".err-msg {\n",
       "color: red;\n",
       "font-style: italic;\n",
       "font-family: monospace;\n",
       "white-space: pre;\n",
       "display: block;\n",
       "}\n",
       "#unshowable {\n",
       "color: red;\n",
       "font-weight: bold;\n",
       "}\n",
       ".err-msg.in.collapse {\n",
       "padding-top: 0.7em;\n",
       "}\n",
       ".highlight-code {\n",
       "white-space: pre;\n",
       "font-family: monospace;\n",
       "}\n",
       ".suggestion-warning { \n",
       "font-weight: bold;\n",
       "color: rgb(200, 130, 0);\n",
       "}\n",
       ".suggestion-error { \n",
       "font-weight: bold;\n",
       "color: red;\n",
       "}\n",
       ".suggestion-name {\n",
       "font-weight: bold;\n",
       "}\n",
       "</style><span class='get-type'>check' :: forall a. Eq a => a -> a -> [Char]</span>"
      ],
      "text/plain": [
       "check' :: forall a. Eq a => a -> a -> [Char]"
      ]
     },
     "metadata": {},
     "output_type": "display_data"
    }
   ],
   "source": [
    ":t check'"
   ]
  },
  {
   "cell_type": "code",
   "execution_count": 52,
   "metadata": {},
   "outputs": [],
   "source": [
    "-- restart kernel\n",
    "nonEmpty [] = False\n",
    "nonEmpty (x:xs) = True"
   ]
  },
  {
   "cell_type": "code",
   "execution_count": 53,
   "metadata": {},
   "outputs": [
    {
     "ename": "",
     "evalue": "",
     "header": "MessageHeader {mhIdentifiers = [\"1a77eea3-aad6-4fd7-a557-2725cf745a96\"], mhParentHeader = Just (MessageHeader {mhIdentifiers = [\"1a77eea3-aad6-4fd7-a557-2725cf745a96\"], mhParentHeader = Nothing, mhMetadata = Metadata (fromList [(\"recordTiming\",Bool False),(\"deletedCells\",Array []),(\"cellId\",String \"71d252d7-26ec-40a6-8e2a-fc9ebc694566\")]), mhMessageId = UUID {uuidToString = \"959ba34d-01c9-45f0-9a5a-4bc1b2b5054e\"}, mhSessionId = UUID {uuidToString = \"1a77eea3-aad6-4fd7-a557-2725cf745a96\"}, mhUsername = \"\", mhMsgType = ExecuteRequestMessage, mhBuffers = []}), mhMetadata = Metadata (fromList []), mhMessageId = UUID {uuidToString = \"7e6db50a-1b14-4d11-8483-aa614c89a23a\"}, mhSessionId = UUID {uuidToString = \"1a77eea3-aad6-4fd7-a557-2725cf745a96\"}, mhUsername = \"\", mhMsgType = ExecuteErrorMessage, mhBuffers = []}",
     "output_type": "error",
     "traceback": [
      "<interactive>:1:1: error:\n    • No instance for (Show Boolean) arising from a use of ‘print’\n    • In a stmt of an interactive GHCi command: print it"
     ]
    }
   ],
   "source": [
    "nonEmpty []\n",
    "nonEmpty \"aaa\""
   ]
  },
  {
   "cell_type": "markdown",
   "metadata": {},
   "source": [
    "Use the function `cond` to implement the factorial function. (Spot the way we pulled apart the `if..then..else..` in the `check` example above, and apply it to your definition of factorial). "
   ]
  },
  {
   "cell_type": "code",
   "execution_count": 54,
   "metadata": {},
   "outputs": [
    {
     "ename": "",
     "evalue": "",
     "header": "MessageHeader {mhIdentifiers = [\"1a77eea3-aad6-4fd7-a557-2725cf745a96\"], mhParentHeader = Just (MessageHeader {mhIdentifiers = [\"1a77eea3-aad6-4fd7-a557-2725cf745a96\"], mhParentHeader = Nothing, mhMetadata = Metadata (fromList [(\"recordTiming\",Bool False),(\"deletedCells\",Array []),(\"cellId\",String \"3ab9d512-d6fa-4dc0-a0fb-31766e42c331\")]), mhMessageId = UUID {uuidToString = \"b39623a2-33ec-4297-9ad9-28d4b579938f\"}, mhSessionId = UUID {uuidToString = \"1a77eea3-aad6-4fd7-a557-2725cf745a96\"}, mhUsername = \"\", mhMsgType = ExecuteRequestMessage, mhBuffers = []}), mhMetadata = Metadata (fromList []), mhMessageId = UUID {uuidToString = \"41286bb3-06ae-4a6a-a631-be4277f83f5c\"}, mhSessionId = UUID {uuidToString = \"1a77eea3-aad6-4fd7-a557-2725cf745a96\"}, mhUsername = \"\", mhMsgType = ExecuteErrorMessage, mhBuffers = []}",
     "output_type": "error",
     "traceback": [
      "<interactive>:1:18: error:\n    • Couldn't match expected type ‘Boolean’ with actual type ‘Bool’\n    • In the first argument of ‘cond’, namely ‘(n > 0)’\n      In the expression: cond (n > 0) (n * fact'' (n - 1)) 1\n      In an equation for ‘fact''’: fact'' n = cond (n > 0) (n * fact'' (n - 1)) 1"
     ]
    }
   ],
   "source": [
    "fact'' n = cond (n > 0) (n * fact''(n - 1)) 1"
   ]
  },
  {
   "cell_type": "code",
   "execution_count": 55,
   "metadata": {},
   "outputs": [
    {
     "ename": "",
     "evalue": "",
     "header": "MessageHeader {mhIdentifiers = [\"1a77eea3-aad6-4fd7-a557-2725cf745a96\"], mhParentHeader = Just (MessageHeader {mhIdentifiers = [\"1a77eea3-aad6-4fd7-a557-2725cf745a96\"], mhParentHeader = Nothing, mhMetadata = Metadata (fromList [(\"recordTiming\",Bool False),(\"deletedCells\",Array []),(\"cellId\",String \"9c27e7a4-7440-4e3e-9ced-86a6877e8346\")]), mhMessageId = UUID {uuidToString = \"9407b6c5-de28-4275-bd23-b43ae56298e0\"}, mhSessionId = UUID {uuidToString = \"1a77eea3-aad6-4fd7-a557-2725cf745a96\"}, mhUsername = \"\", mhMsgType = ExecuteRequestMessage, mhBuffers = []}), mhMetadata = Metadata (fromList []), mhMessageId = UUID {uuidToString = \"77bf3ab8-bde9-4e70-81d5-d99face1bb1c\"}, mhSessionId = UUID {uuidToString = \"1a77eea3-aad6-4fd7-a557-2725cf745a96\"}, mhUsername = \"\", mhMsgType = ExecuteErrorMessage, mhBuffers = []}",
     "output_type": "error",
     "traceback": [
      "<interactive>:1:1: error:\n    • Variable not in scope: fact'' :: t0 -> t\n    • Perhaps you meant one of these: ‘fact'’ (line 1), ‘fact’ (line 1)"
     ]
    }
   ],
   "source": [
    "fact'' 4"
   ]
  },
  {
   "cell_type": "markdown",
   "metadata": {},
   "source": [
    "## 4. The offside rule"
   ]
  },
  {
   "cell_type": "markdown",
   "metadata": {},
   "source": [
    "Debug the following code, which has indentation issues related to the offside rule: "
   ]
  },
  {
   "cell_type": "code",
   "execution_count": 56,
   "metadata": {},
   "outputs": [],
   "source": [
    "isphone s = (take 3 s) == \"TEL\"\n",
    "strip s = tail (dropWhile (/=':') s)\n",
    "getPhones card = phones\n",
    "   where\n",
    "   all_lines = lines card\n",
    "   phone_lines = filter isphone all_lines \n",
    "   phones = map strip phone_lines"
   ]
  },
  {
   "cell_type": "markdown",
   "metadata": {},
   "source": [
    "## 5. The vcard example"
   ]
  },
  {
   "cell_type": "markdown",
   "metadata": {},
   "source": [
    "Recall the vcard code from last week. "
   ]
  },
  {
   "cell_type": "code",
   "execution_count": 57,
   "metadata": {},
   "outputs": [],
   "source": [
    "isTELLine line = take 3 line == \"TEL\"\n",
    "getTELFromLine line = tail $ dropWhile (/= ':') line\n",
    "getTELFromVcard card = map getTELFromLine $ filter isTELLine $ lines card"
   ]
  },
  {
   "cell_type": "markdown",
   "metadata": {},
   "source": [
    "Modify this to produce two functions that will extract the email addresses and the names of the owners of the cards given to them. "
   ]
  },
  {
   "cell_type": "code",
   "execution_count": 58,
   "metadata": {},
   "outputs": [
    {
     "ename": "",
     "evalue": "",
     "header": "MessageHeader {mhIdentifiers = [\"1a77eea3-aad6-4fd7-a557-2725cf745a96\"], mhParentHeader = Just (MessageHeader {mhIdentifiers = [\"1a77eea3-aad6-4fd7-a557-2725cf745a96\"], mhParentHeader = Nothing, mhMetadata = Metadata (fromList [(\"recordTiming\",Bool False),(\"deletedCells\",Array []),(\"cellId\",String \"8b72fe2e-5292-4008-9fad-246d2bf0cdc0\")]), mhMessageId = UUID {uuidToString = \"8b2c5e6e-5241-4d5f-b8e9-210045bddc05\"}, mhSessionId = UUID {uuidToString = \"1a77eea3-aad6-4fd7-a557-2725cf745a96\"}, mhUsername = \"\", mhMsgType = ExecuteRequestMessage, mhBuffers = []}), mhMetadata = Metadata (fromList []), mhMessageId = UUID {uuidToString = \"ce947706-6c94-4dac-9924-340be368709f\"}, mhSessionId = UUID {uuidToString = \"1a77eea3-aad6-4fd7-a557-2725cf745a96\"}, mhUsername = \"\", mhMsgType = ExecuteErrorMessage, mhBuffers = []}",
     "output_type": "error",
     "traceback": [
      "<interactive>:1:17: error: Variable not in scope: cards :: String"
     ]
    }
   ],
   "source": [
    "getTELFromVcard cards"
   ]
  },
  {
   "cell_type": "markdown",
   "metadata": {},
   "source": [
    "Here is a small example to test on: "
   ]
  },
  {
   "cell_type": "code",
   "execution_count": 59,
   "metadata": {},
   "outputs": [],
   "source": [
    "cards = \"BEGIN:VCARD\\nVERSION:3.0\\nPRODID:-//Apple Inc.//Mac OS X 10.9.5//EN\\nN:Doe;Jane;;;\\nFN:Jane Doe\\nEMAIL;type=INTERNET;type=HOME;type=pref:jane.doe@notmail.com\\nTEL;type=CELL;type=VOICE;type=pref:0123 456789\\nTEL;type=WORK;type=VOICE:020 1234 5678\\nADR;type=HOME;type=pref:;;1 Not Street;London;;A1 4BZ;\\nitem1.URL;type=pref:jane.doe@me.net\\nitem1.X-ABLabel:_$!<HomePage>!$_\\nUID:8400c795-9dbc-487d-9d2a-de3311f9d075\\nX-ABUID:8400C795-9DBC-487D-9D2A-DE3311F9D075:ABPerson\\nEND:VCARD\\nBEGIN:VCARD\\nVERSION:3.0\\nPRODID:-//Apple Inc.//Mac OS X 10.9.5//EN\\nN:Doe;Jim Barnaby;;;\\nFN:Jim Barnaby Doe\\nEMAIL;type=INTERNET;type=WORK;type=pref:jim.doe@not.com\\nTEL;type=CELL;type=VOICE;type=pref:02468 123456\\nTEL;type=WORK;type=VOICE:020 2345 6789\\nUID:7476fd69-9bf1-416e-b093-05ddc23c385f\\nX-ABUID:7476FD69-9BF1-416E-B093-05DDC23C385F:ABPerson\\nEND:VCARD\\nBEGIN:VCARD\\nVERSION:3.0\\nPRODID:-//Apple Inc.//Mac OS X 10.9.5//EN\\nN:Doe;John;;;\\nFN:John Doe\\nORG:Queen Mary;\\nEMAIL;type=INTERNET;type=HOME;type=pref:JohnDoe@nogmail.com\\nTEL;type=CELL;type=VOICE;type=pref:0751 234567\\nTEL;type=HOME;type=VOICE:020 7123 4567\\nADR;type=HOME;type=pref:;;42 Nowhere St;London;;E1 0XX;\\nUID:8bb3d68ec846f1\\nX-ABUID:608AE44E-BF05-4713-A748-AAE3CAB64858:ABPerson\\nEND:VCARD\\n\"\n"
   ]
  },
  {
   "cell_type": "code",
   "execution_count": 60,
   "metadata": {},
   "outputs": [],
   "source": [
    "isEMAILLine line = take 5 line == \"EMAIL\""
   ]
  },
  {
   "cell_type": "code",
   "execution_count": 61,
   "metadata": {},
   "outputs": [],
   "source": [
    "getEMAILFromLine line = tail $ dropWhile (/= ':') line"
   ]
  },
  {
   "cell_type": "code",
   "execution_count": 62,
   "metadata": {},
   "outputs": [],
   "source": [
    "getEMAILFromVcard card = map getEMAILFromLine $ filter isEMAILLine $ lines card"
   ]
  },
  {
   "cell_type": "code",
   "execution_count": 63,
   "metadata": {},
   "outputs": [
    {
     "data": {
      "text/plain": [
       "[\"jane.doe@notmail.com\",\"jim.doe@not.com\",\"JohnDoe@nogmail.com\"]"
      ]
     },
     "metadata": {},
     "output_type": "display_data"
    }
   ],
   "source": [
    "getEMAILFromVcard cards"
   ]
  },
  {
   "cell_type": "markdown",
   "metadata": {
    "tags": []
   },
   "source": [
    "This represents the following cards (clearer in the code than if you compile it): "
   ]
  },
  {
   "cell_type": "raw",
   "metadata": {},
   "source": [
    "BEGIN:VCARD\n",
    "VERSION:3.0\n",
    "PRODID:-//Apple Inc.//Mac OS X 10.9.5//EN\n",
    "N:Doe;Jane;;;\n",
    "FN:Jane Doe\n",
    "EMAIL;type=INTERNET;type=HOME;type=pref:jane.doe@notmail.com\n",
    "TEL;type=CELL;type=VOICE;type=pref:0123 456789\n",
    "TEL;type=WORK;type=VOICE:020 1234 5678\n",
    "ADR;type=HOME;type=pref:;;1 Not Street;London;;A1 4BZ;\n",
    "item1.URL;type=pref:jane.doe@me.net\n",
    "item1.X-ABLabel:_$!<HomePage>!$_\n",
    "UID:8400c795-9dbc-487d-9d2a-de3311f9d075\n",
    "X-ABUID:8400C795-9DBC-487D-9D2A-DE3311F9D075:ABPerson\n",
    "END:VCARD\n",
    "BEGIN:VCARD\n",
    "VERSION:3.0\n",
    "PRODID:-//Apple Inc.//Mac OS X 10.9.5//EN\n",
    "N:Doe;Jim Barnaby;;;\n",
    "FN:Jim Barnaby Doe\n",
    "EMAIL;type=INTERNET;type=WORK;type=pref:jim.doe@not.com\n",
    "TEL;type=CELL;type=VOICE;type=pref:02468 123456\n",
    "TEL;type=WORK;type=VOICE:020 2345 6789\n",
    "UID:7476fd69-9bf1-416e-b093-05ddc23c385f\n",
    "X-ABUID:7476FD69-9BF1-416E-B093-05DDC23C385F:ABPerson\n",
    "END:VCARD\n",
    "BEGIN:VCARD\n",
    "VERSION:3.0\n",
    "PRODID:-//Apple Inc.//Mac OS X 10.9.5//EN\n",
    "N:Doe;John;;;\n",
    "FN:John Doe\n",
    "ORG:Queen Mary;\n",
    "EMAIL;type=INTERNET;type=HOME;type=pref:JohnDoe@nogmail.com\n",
    "TEL;type=CELL;type=VOICE;type=pref:0751 234567\n",
    "TEL;type=HOME;type=VOICE:020 7123 4567\n",
    "ADR;type=HOME;type=pref:;;42 Nowhere St;London;;E1 0XX;\n",
    "UID:8bb3d68ec846f1\n",
    "X-ABUID:608AE44E-BF05-4713-A748-AAE3CAB64858:ABPerson\n",
    "END:VCARD"
   ]
  },
  {
   "cell_type": "code",
   "execution_count": null,
   "metadata": {},
   "outputs": [],
   "source": []
  }
 ],
 "metadata": {
  "kernelspec": {
   "display_name": "Haskell",
   "language": "haskell",
   "name": "haskell"
  },
  "language_info": {
   "codemirror_mode": "Haskell",
   "file_extension": ".hs",
   "mimetype": "text/x-haskell",
   "name": "haskell",
   "pygments_lexer": "Haskell",
   "version": "8.10.4"
  }
 },
 "nbformat": 4,
 "nbformat_minor": 4
}

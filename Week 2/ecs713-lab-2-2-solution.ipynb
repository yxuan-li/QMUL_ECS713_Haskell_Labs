{
 "cells": [
  {
   "cell_type": "markdown",
   "metadata": {},
   "source": [
    "# ECS713: Week 2 Lab Sheet - Part 2/2"
   ]
  },
  {
   "cell_type": "markdown",
   "metadata": {},
   "source": [
    "This lab sheet covers \n",
    "- type (synonym) declarations\n",
    "- (algebraic) datatype declarations\n",
    "- simple function definitions by pattern-matching on algebraic datatypes"
   ]
  },
  {
   "cell_type": "markdown",
   "metadata": {},
   "source": [
    "## Learning Objectives"
   ]
  },
  {
   "cell_type": "markdown",
   "metadata": {},
   "source": [
    "By the time you complete this sheet you should be able to\n",
    "- use simple Haskell type definitions\n",
    "- write simple Haskell enumerated datatypes\n",
    "- write simple Haskell parametrised algebraic datatypes\n",
    "- write function definitions by pattern-matching on parametrised algebraic datatypes"
   ]
  },
  {
   "cell_type": "markdown",
   "metadata": {},
   "source": [
    "## Turn off the annoying linter"
   ]
  },
  {
   "cell_type": "markdown",
   "metadata": {},
   "source": [
    "Run the cell below to turn off the annoying linter, which suggests improvements to your code that aren't appropriate for these exercises. "
   ]
  },
  {
   "cell_type": "code",
   "execution_count": null,
   "metadata": {},
   "outputs": [],
   "source": [
    ":opt no-lint"
   ]
  },
  {
   "cell_type": "markdown",
   "metadata": {},
   "source": [
    "## Task 1. TYPE (Synonyms)"
   ]
  },
  {
   "cell_type": "markdown",
   "metadata": {},
   "source": [
    "Type synonyms do not add to the range of types available in your program, but they do help document how you intend to use the data. "
   ]
  },
  {
   "cell_type": "code",
   "execution_count": 3,
   "metadata": {},
   "outputs": [],
   "source": [
    "type Name = String\n",
    "type Weight = Int\n",
    "type TEL = String"
   ]
  },
  {
   "cell_type": "markdown",
   "metadata": {},
   "source": [
    "Type names should begin with upper case. "
   ]
  },
  {
   "cell_type": "markdown",
   "metadata": {},
   "source": [
    "Why did I use `String` rather than, say, `Int` for the type `TEL`, which is expected to contain a telephone **number**? "
   ]
  },
  {
   "cell_type": "markdown",
   "metadata": {},
   "source": [
    "Put your solution here: Telephone numbers can start with a 0, or contain other symbols such as +, so a String is a more appropriate data type."
   ]
  },
  {
   "cell_type": "markdown",
   "metadata": {},
   "source": [
    "Given the definitions above, answer and explain: \n",
    "1. Is `-25` a valid `Weight`?\n",
    "2. Is \"Gerald\" a valid phone number, i.e. a valid element of type `TEL`?\n",
    "3. If `foo` is a function of type `[Char] -> Int`, and `myPhone` has type `TEL`, can I apply `foo` to `myPhone` (i.e. can I call `foo` with argument `myPhone`?\n",
    "4. With the same function `foo`, if `myWeight` has type `Weight`, can I apply `foo` to `myWeight`?"
   ]
  },
  {
   "cell_type": "code",
   "execution_count": 1,
   "metadata": {},
   "outputs": [],
   "source": [
    "-- 1. Yes, -3 is an Int\n",
    "-- 2. Yes, because \"Gerald\" is a String, so also TEL\n",
    "-- 3. Yes, foo takes a [Char] which is the same as String, which is now the same as TEL\n",
    "-- 4. No because Weight = Int which is not the same as String"
   ]
  },
  {
   "cell_type": "markdown",
   "metadata": {},
   "source": [
    "## Task 2. Enumerated Types"
   ]
  },
  {
   "cell_type": "markdown",
   "metadata": {},
   "source": [
    "The simplest form of algebraic datatype is where we just have a list of constants, an enumerated type. In Haskell all the constants have to start with an upper case character. "
   ]
  },
  {
   "cell_type": "markdown",
   "metadata": {},
   "source": [
    "Example:"
   ]
  },
  {
   "cell_type": "code",
   "execution_count": 8,
   "metadata": {},
   "outputs": [],
   "source": [
    "data Direction = North | South | East | West"
   ]
  },
  {
   "cell_type": "markdown",
   "metadata": {},
   "source": [
    "Give enumerated types for: \n",
    "- days of the week\n",
    "- months"
   ]
  },
  {
   "cell_type": "code",
   "execution_count": 2,
   "metadata": {},
   "outputs": [
    {
     "ename": "",
     "evalue": "",
     "output_type": "error",
     "traceback": [
      "Parse error (line 2, column 23): parse error on input ‘|’"
     ]
    }
   ],
   "source": [
    "-- answer here\n",
    "date WeekDay = Monday | Tuesday | Wednesday | Thursday | Friday | Saturday | Sunday\n",
    "data Month = Jan | Feb | Mar | Apr | May | Jun | Jul | Aug | Sep | Oct | Nov | Dec"
   ]
  },
  {
   "cell_type": "markdown",
   "metadata": {},
   "source": [
    "Here is an example we have seen before, but not thought of like this: "
   ]
  },
  {
   "cell_type": "code",
   "execution_count": 3,
   "metadata": {},
   "outputs": [],
   "source": [
    "data Bool = False | True"
   ]
  },
  {
   "cell_type": "markdown",
   "metadata": {},
   "source": [
    "## Task 3. Parametrised Algebraic Types"
   ]
  },
  {
   "cell_type": "markdown",
   "metadata": {},
   "source": [
    "Going back to the vcard example we looked at, a card has a structure where it contains a sequence of lines, each containing some kind of attribute, like a name, phone number, or address. But the number and sequence of these is not determined. So we might want to represent a card as a list of attributes, each of which is parametrised. \n"
   ]
  },
  {
   "cell_type": "code",
   "execution_count": null,
   "metadata": {},
   "outputs": [],
   "source": [
    "type VCard = [CardAttribute]\n",
    "data CardAttribute = NAMEAttribute String\n",
    "                   | TELAttribute String\n",
    "                   | EMAILLAttribute String\n",
    "        deriving (Eq, Show)"
   ]
  },
  {
   "cell_type": "markdown",
   "metadata": {},
   "source": [
    "This is completely oversimplified, but it is to illustrate the idea. The constructors of our algebraic datatype are now parametrised by `String` (they could be three different types). So we have a single type that contains three different sorts of object, each parametrised by a `String` that represents, respectively, a name, a phone number and an email address. "
   ]
  },
  {
   "cell_type": "markdown",
   "metadata": {},
   "source": [
    "Note: by default, Haskell does not know how to print out values of an arbitrary algebraic datatype, or to compare them for equality. The `deriving` directive tells Haskell to use the default methods. "
   ]
  },
  {
   "cell_type": "markdown",
   "metadata": {},
   "source": [
    "The functions `NAMEAttribute`, `TELAttribute` and `EMAILAttribute` \n",
    "- all begin with upper case\n",
    "- are refered to as **constructors**\n",
    "- could have more than one parameter\n",
    "- aren't really functions because they just package the data contained in their parameters. "
   ]
  },
  {
   "cell_type": "markdown",
   "metadata": {},
   "source": [
    "We have already met some examples of types we could write like this (or almost... Haskell gives them special syntax we can't replicate). These are pairs and lists:"
   ]
  },
  {
   "cell_type": "code",
   "execution_count": null,
   "metadata": {},
   "outputs": [],
   "source": [
    "data MyPairOfInt = MakePair Int Int\n",
    "data MyListOfInt = MyEmptyListOfInt | MyCons Int MyListOfInt"
   ]
  },
  {
   "cell_type": "markdown",
   "metadata": {},
   "source": [
    "In this way of thinking, the pair syntax `(,)`, as in `(3,4)` is a piece of non-standard syntax for a standard algebraic \n",
    "datatype constructor, as are `[]` and `:` for lists. "
   ]
  },
  {
   "cell_type": "markdown",
   "metadata": {},
   "source": [
    "Note: pairs and lists allow variable types. We can also make algebraic datatypes using variable types as well (\"polymorphic\" in the jargon), but not just yet. "
   ]
  },
  {
   "cell_type": "markdown",
   "metadata": {},
   "source": [
    "Suppose you wanted to design a bookkeeping system, in which each entry was either a Credit or Debit, with an amount an initial balance, and the name of the payee (or creditor). Design an algebraic datatype to represent an individual entry. "
   ]
  },
  {
   "cell_type": "code",
   "execution_count": 5,
   "metadata": {},
   "outputs": [],
   "source": [
    "data Mode = Credit | Debit\n",
    "type Amount = Float\n",
    "type InitialBalance = Float\n",
    "\n",
    "data Entry = Entry Mode Amount InitialBalance"
   ]
  },
  {
   "cell_type": "markdown",
   "metadata": {},
   "source": [
    "## Task 4. Defining Functions by Pattern-Matching"
   ]
  },
  {
   "cell_type": "markdown",
   "metadata": {},
   "source": [
    "We usually define functions on algebraic datatypes by pattern-matching:"
   ]
  },
  {
   "cell_type": "code",
   "execution_count": 7,
   "metadata": {},
   "outputs": [],
   "source": [
    "data Position = Point Int Int\n",
    "  deriving (Eq,Show)\n",
    "\n",
    "data Direction = North | South | East | West\n",
    "\n",
    "step :: Direction -> Position -> Position\n",
    "step North (Point x y) = Point x (y+1)\n",
    "step South (Point x y) = Point x (y-1)\n",
    "step East (Point x y) = Point (x+1) y\n",
    "step West (Point x y) = Point (x-1) y"
   ]
  },
  {
   "cell_type": "markdown",
   "metadata": {},
   "source": [
    "This is pattern-matching on the `Direction` parameter to choose the case, and pattern-matching on the `Position` parameter to get the coordinates. "
   ]
  },
  {
   "cell_type": "markdown",
   "metadata": {},
   "source": [
    "Using your bookkeeping datatype write a function `finalBalance` to compute the balance after the transaction. "
   ]
  },
  {
   "cell_type": "code",
   "execution_count": 8,
   "metadata": {},
   "outputs": [],
   "source": [
    "finalBalance :: Entry -> Float\n",
    "finalBalance (Entry Credit amount initial) = initial + amount\n",
    "finalBalance (Entry Debit amount initial) = initial - amount"
   ]
  },
  {
   "cell_type": "markdown",
   "metadata": {},
   "source": [
    "\n",
    "## Task 5. JSON"
   ]
  },
  {
   "cell_type": "markdown",
   "metadata": {},
   "source": [
    "JSON and XML are formats that allow you to encode objects of algebraic datatypes as text. "
   ]
  },
  {
   "cell_type": "markdown",
   "metadata": {},
   "source": [
    "Here is an example from \"opensource.adobe.com\":"
   ]
  },
  {
   "cell_type": "markdown",
   "metadata": {},
   "source": [
    "`{\n",
    "\t\"id\": \"0001\",\n",
    "\t\"type\": \"donut\",\n",
    "\t\"name\": \"Cake\",\n",
    "\t\"image\":\n",
    "\t\t{\n",
    "\t\t\t\"url\": \"images/0001.jpg\",\n",
    "\t\t\t\"width\": 200,\n",
    "\t\t\t\"height\": 200\n",
    "\t\t},\n",
    "\t\"thumbnail\":\n",
    "\t\t{\n",
    "\t\t\t\"url\": \"images/thumbnails/0001.jpg\",\n",
    "\t\t\t\"width\": 32,\n",
    "\t\t\t\"height\": 32\n",
    "\t\t}\n",
    "}`"
   ]
  },
  {
   "cell_type": "markdown",
   "metadata": {},
   "source": [
    "Design a datatype `Image` that can be used to represent the image and the thumbnail. "
   ]
  },
  {
   "cell_type": "code",
   "execution_count": 12,
   "metadata": {},
   "outputs": [],
   "source": [
    "type ID = String\n",
    "type Type = String\n",
    "type Name = String\n",
    "type URL = String\n",
    "type Width = Int\n",
    "type Height = Int\n",
    "\n",
    "data Image = Image URL Width Height\n",
    "\n",
    "data Thumbnail = Thumbnail URL Width Height\n",
    "\n",
    "data Adobe = Adobe ID Type Name Image Thumbnail"
   ]
  },
  {
   "cell_type": "code",
   "execution_count": null,
   "metadata": {},
   "outputs": [],
   "source": []
  }
 ],
 "metadata": {
  "kernelspec": {
   "display_name": "Haskell",
   "language": "haskell",
   "name": "haskell"
  },
  "language_info": {
   "codemirror_mode": "ihaskell",
   "file_extension": ".hs",
   "mimetype": "text/x-haskell",
   "name": "haskell",
   "pygments_lexer": "Haskell",
   "version": "8.10.4"
  }
 },
 "nbformat": 4,
 "nbformat_minor": 4
}

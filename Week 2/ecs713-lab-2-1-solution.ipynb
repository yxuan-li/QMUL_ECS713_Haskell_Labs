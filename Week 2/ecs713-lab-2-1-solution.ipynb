{
 "cells": [
  {
   "cell_type": "markdown",
   "metadata": {},
   "source": [
    "# ECS713: Week 2 Lab Sheet - Part 1/2"
   ]
  },
  {
   "cell_type": "markdown",
   "metadata": {},
   "source": [
    "This lab sheet covers \n",
    "- comments\n",
    "- types\n",
    "- conditionals\n",
    "- the offside rule"
   ]
  },
  {
   "cell_type": "markdown",
   "metadata": {},
   "source": [
    "## Learning Objectives"
   ]
  },
  {
   "cell_type": "markdown",
   "metadata": {},
   "source": [
    "By the time you complete this sheet you should be able to\n",
    "- write a simple Haskell definition for a value\n",
    "- write a simple Haskell definition for a function\n",
    "- be familiar with the precedence of basic Haskell operators\n",
    "- know some basic functions to use with lists and tuples. "
   ]
  },
  {
   "cell_type": "markdown",
   "metadata": {},
   "source": [
    "## Turn off the annoying linter"
   ]
  },
  {
   "cell_type": "markdown",
   "metadata": {},
   "source": [
    "Run the cell below to turn off the annoying linter, which suggests improvements to your code that aren't appropriate for these exercises. "
   ]
  },
  {
   "cell_type": "code",
   "execution_count": null,
   "metadata": {},
   "outputs": [],
   "source": [
    ":opt no-lint"
   ]
  },
  {
   "cell_type": "markdown",
   "metadata": {},
   "source": [
    "## Comments"
   ]
  },
  {
   "cell_type": "markdown",
   "metadata": {},
   "source": [
    "Comments can be a bit superfluous in Jupyter notebooks, but they are essential in regular code. \n",
    "\n",
    "Haskell has both single and multiline comments. "
   ]
  },
  {
   "cell_type": "code",
   "execution_count": null,
   "metadata": {},
   "outputs": [],
   "source": [
    "-- COMMENTS\n",
    "\n",
    "-- Anything after -- is a comment\n",
    "\n",
    "{- Multiline comments can be between brackets,\n",
    "like this.\n",
    "-}"
   ]
  },
  {
   "cell_type": "markdown",
   "metadata": {},
   "source": [
    "## 1. TYPES"
   ]
  },
  {
   "cell_type": "markdown",
   "metadata": {},
   "source": [
    "a. Synonyms: Which of these values is badly typed? And which of the others are equal?\n",
    "`['a','a','a']`\n",
    "`[\"aaa\"]`\n",
    "`\"aaa\"`\n",
    "`['aaa']`\n",
    "`'a'++\"aa\"`\n",
    "`'a':\"aa\"`\n",
    "`['a']++\"aa\"`\n",
    "`[\"a\"]:[\"aa\"]`\n",
    "\n",
    "Use the box below to check values and use the `:type` directive to check the types: "
   ]
  },
  {
   "cell_type": "code",
   "execution_count": 1,
   "metadata": {},
   "outputs": [
    {
     "data": {
      "text/plain": [
       "\"aaa\""
      ]
     },
     "metadata": {},
     "output_type": "display_data"
    },
    {
     "data": {
      "text/html": [
       "<style>/* Styles used for the Hoogle display in the pager */\n",
       ".hoogle-doc {\n",
       "display: block;\n",
       "padding-bottom: 1.3em;\n",
       "padding-left: 0.4em;\n",
       "}\n",
       ".hoogle-code {\n",
       "display: block;\n",
       "font-family: monospace;\n",
       "white-space: pre;\n",
       "}\n",
       ".hoogle-text {\n",
       "display: block;\n",
       "}\n",
       ".hoogle-name {\n",
       "color: green;\n",
       "font-weight: bold;\n",
       "}\n",
       ".hoogle-head {\n",
       "font-weight: bold;\n",
       "}\n",
       ".hoogle-sub {\n",
       "display: block;\n",
       "margin-left: 0.4em;\n",
       "}\n",
       ".hoogle-package {\n",
       "font-weight: bold;\n",
       "font-style: italic;\n",
       "}\n",
       ".hoogle-module {\n",
       "font-weight: bold;\n",
       "}\n",
       ".hoogle-class {\n",
       "font-weight: bold;\n",
       "}\n",
       ".get-type {\n",
       "color: green;\n",
       "font-weight: bold;\n",
       "font-family: monospace;\n",
       "display: block;\n",
       "white-space: pre-wrap;\n",
       "}\n",
       ".show-type {\n",
       "color: green;\n",
       "font-weight: bold;\n",
       "font-family: monospace;\n",
       "margin-left: 1em;\n",
       "}\n",
       ".mono {\n",
       "font-family: monospace;\n",
       "display: block;\n",
       "}\n",
       ".err-msg {\n",
       "color: red;\n",
       "font-style: italic;\n",
       "font-family: monospace;\n",
       "white-space: pre;\n",
       "display: block;\n",
       "}\n",
       "#unshowable {\n",
       "color: red;\n",
       "font-weight: bold;\n",
       "}\n",
       ".err-msg.in.collapse {\n",
       "padding-top: 0.7em;\n",
       "}\n",
       ".highlight-code {\n",
       "white-space: pre;\n",
       "font-family: monospace;\n",
       "}\n",
       ".suggestion-warning { \n",
       "font-weight: bold;\n",
       "color: rgb(200, 130, 0);\n",
       "}\n",
       ".suggestion-error { \n",
       "font-weight: bold;\n",
       "color: red;\n",
       "}\n",
       ".suggestion-name {\n",
       "font-weight: bold;\n",
       "}\n",
       "</style><span class='get-type'>['a','a','a'] :: [Char]</span>"
      ],
      "text/plain": [
       "['a','a','a'] :: [Char]"
      ]
     },
     "metadata": {},
     "output_type": "display_data"
    }
   ],
   "source": [
    "['a','a','a']\n",
    ":type ['a','a','a']"
   ]
  },
  {
   "cell_type": "markdown",
   "metadata": {},
   "source": [
    "b. Of the values above that are well-typed, which have the same types, and what are they?"
   ]
  },
  {
   "cell_type": "markdown",
   "metadata": {},
   "source": [
    "Put yout solution here: ['a', 'a', 'a'] :: Char"
   ]
  },
  {
   "cell_type": "markdown",
   "metadata": {},
   "source": [
    "c. Split these values into those which are tuples, and those which are lists:"
   ]
  },
  {
   "cell_type": "code",
   "execution_count": null,
   "metadata": {},
   "outputs": [],
   "source": [
    "-- tuple\n",
    "(1,2,3)\n",
    "\n",
    "-- lists\n",
    "[1,2,3]\n",
    "[(1,2,3)]\n",
    "([1,2,3])"
   ]
  },
  {
   "cell_type": "markdown",
   "metadata": {},
   "source": [
    "## 2. CONDITIONALS"
   ]
  },
  {
   "cell_type": "markdown",
   "metadata": {},
   "source": [
    "The aim of this question is to give practice in the different ways to express conditionals, and how to translate between them. The two key ways are the use of `if.. then .. else ..` and guards. "
   ]
  },
  {
   "cell_type": "markdown",
   "metadata": {},
   "source": [
    "The basic scenario is that we have a sequence of conditions, each accompanied by a return value. We walk through the code evaluating the conditions, and on the first occasion one condition returns `True`, we return the associated return value. There are different ways of expressing this. `if..then..else..` works at the level of expressions (it is an expression you can use anywhere). Guards work at the level of definitions (declarations). The other possibility we use here is a `case` expression. This is an expression like `if..then..else..`, but derived from the more general pattern-matching definitions we'll see later. "
   ]
  },
  {
   "cell_type": "markdown",
   "metadata": {},
   "source": [
    "Here is the general structure: \n",
    "\n",
    "`conditional\n",
    "  condition1 -> return1\n",
    "  condition2 -> return2\n",
    "  ...\n",
    "  default -> returnk`\n",
    "  \n",
    "This corresponds to:\n",
    "\n",
    "`if condition1 then return1\n",
    " else if condition2 then return 2\n",
    " else ..\n",
    " else returnk`\n",
    " \n",
    "Or with guards: \n",
    "\n",
    "`... | condition1 = return1\n",
    "     | condition2 = return2\n",
    "     ...\n",
    "     | otherwise = returnk`\n",
    "     \n",
    "And in terms of case expressions, a nasty nesting:\n",
    "\n",
    "`case condition1 of \n",
    "   True -> return1\n",
    "   False -> \n",
    "     case condition2 of \n",
    "       True -> return2\n",
    "       False -> \n",
    "         case ... \n",
    "           False -> returnk`"
   ]
  },
  {
   "cell_type": "markdown",
   "metadata": {},
   "source": [
    "Here is a really stupid example of a function you would never want to write in the first place:"
   ]
  },
  {
   "cell_type": "code",
   "execution_count": null,
   "metadata": {},
   "outputs": [],
   "source": [
    "whatIs name = \n",
    "  if name==\"Fido\" then \"Fido is a dog\"\n",
    "  else if name==\"Tiddles\" then \"Tiddles is a cat\"\n",
    "  else \"I don't know what \"++name++\" is\""
   ]
  },
  {
   "cell_type": "code",
   "execution_count": null,
   "metadata": {},
   "outputs": [],
   "source": [
    "whatIs' name\n",
    "  | name == \"Fido\" = \"Fido is a dog\"\n",
    "  | name == \"Tiddles\" = \"Tiddles is a cat\"\n",
    "  | otherwise = \"I don't know what \" ++ name ++ \" is\""
   ]
  },
  {
   "cell_type": "code",
   "execution_count": null,
   "metadata": {},
   "outputs": [],
   "source": [
    "whatIs'' name = \n",
    "  case name == \"Fido\" of \n",
    "    True -> \"Fido is a dog\"\n",
    "    False ->\n",
    "      case name == \"Tiddles\" of \n",
    "        True -> \"Tiddles is a cat\"\n",
    "        False -> \"I don't know what \" ++ name ++ \" is\""
   ]
  },
  {
   "cell_type": "code",
   "execution_count": null,
   "metadata": {},
   "outputs": [],
   "source": [
    "whatIs'' \"Fido\"\n",
    "whatIs'' \"Tiddles\"\n",
    "whatIs'' \"Bambi\""
   ]
  },
  {
   "cell_type": "markdown",
   "metadata": {},
   "source": [
    "a. This function on strings is defined using `if.. then .. else ..`"
   ]
  },
  {
   "cell_type": "code",
   "execution_count": 2,
   "metadata": {},
   "outputs": [],
   "source": [
    "-- This function on strings is defined using if.. then .. else\n",
    "check myname name =\n",
    "  if name == myname then \"hello\" else \"sorry, wrong person\""
   ]
  },
  {
   "cell_type": "markdown",
   "metadata": {},
   "source": [
    "Write tests below that execute each possible branch. You will need two tests. "
   ]
  },
  {
   "cell_type": "code",
   "execution_count": 3,
   "metadata": {},
   "outputs": [
    {
     "data": {
      "text/plain": [
       "\"hello\""
      ]
     },
     "metadata": {},
     "output_type": "display_data"
    },
    {
     "data": {
      "text/plain": [
       "\"sorry, wrong person\""
      ]
     },
     "metadata": {},
     "output_type": "display_data"
    }
   ],
   "source": [
    "check \"John\" \"John\"\n",
    "check \"John\" \"Mary\""
   ]
  },
  {
   "cell_type": "markdown",
   "metadata": {},
   "source": [
    "Translate the declaration of `check` into one of a function using guards:"
   ]
  },
  {
   "cell_type": "code",
   "execution_count": 6,
   "metadata": {},
   "outputs": [
    {
     "data": {
      "text/plain": [
       "\"hello\""
      ]
     },
     "metadata": {},
     "output_type": "display_data"
    },
    {
     "data": {
      "text/plain": [
       "\"sorry, wrong person\""
      ]
     },
     "metadata": {},
     "output_type": "display_data"
    }
   ],
   "source": [
    "check' myname name | name == myname = \"hello\"\n",
    "                   | otherwise = \"sorry, wrong person\"\n",
    "\n",
    "check' \"John\" \"John\"\n",
    "check' \"John\" \"Mary\""
   ]
  },
  {
   "cell_type": "markdown",
   "metadata": {},
   "source": [
    "Translate it again into a function using a case expression on Bool."
   ]
  },
  {
   "cell_type": "code",
   "execution_count": 7,
   "metadata": {},
   "outputs": [
    {
     "data": {
      "text/html": [
       "<style>/* Styles used for the Hoogle display in the pager */\n",
       ".hoogle-doc {\n",
       "display: block;\n",
       "padding-bottom: 1.3em;\n",
       "padding-left: 0.4em;\n",
       "}\n",
       ".hoogle-code {\n",
       "display: block;\n",
       "font-family: monospace;\n",
       "white-space: pre;\n",
       "}\n",
       ".hoogle-text {\n",
       "display: block;\n",
       "}\n",
       ".hoogle-name {\n",
       "color: green;\n",
       "font-weight: bold;\n",
       "}\n",
       ".hoogle-head {\n",
       "font-weight: bold;\n",
       "}\n",
       ".hoogle-sub {\n",
       "display: block;\n",
       "margin-left: 0.4em;\n",
       "}\n",
       ".hoogle-package {\n",
       "font-weight: bold;\n",
       "font-style: italic;\n",
       "}\n",
       ".hoogle-module {\n",
       "font-weight: bold;\n",
       "}\n",
       ".hoogle-class {\n",
       "font-weight: bold;\n",
       "}\n",
       ".get-type {\n",
       "color: green;\n",
       "font-weight: bold;\n",
       "font-family: monospace;\n",
       "display: block;\n",
       "white-space: pre-wrap;\n",
       "}\n",
       ".show-type {\n",
       "color: green;\n",
       "font-weight: bold;\n",
       "font-family: monospace;\n",
       "margin-left: 1em;\n",
       "}\n",
       ".mono {\n",
       "font-family: monospace;\n",
       "display: block;\n",
       "}\n",
       ".err-msg {\n",
       "color: red;\n",
       "font-style: italic;\n",
       "font-family: monospace;\n",
       "white-space: pre;\n",
       "display: block;\n",
       "}\n",
       "#unshowable {\n",
       "color: red;\n",
       "font-weight: bold;\n",
       "}\n",
       ".err-msg.in.collapse {\n",
       "padding-top: 0.7em;\n",
       "}\n",
       ".highlight-code {\n",
       "white-space: pre;\n",
       "font-family: monospace;\n",
       "}\n",
       ".suggestion-warning { \n",
       "font-weight: bold;\n",
       "color: rgb(200, 130, 0);\n",
       "}\n",
       ".suggestion-error { \n",
       "font-weight: bold;\n",
       "color: red;\n",
       "}\n",
       ".suggestion-name {\n",
       "font-weight: bold;\n",
       "}\n",
       "</style><div class=\"suggestion-name\" style=\"clear:both;\">Use if</div><div class=\"suggestion-row\" style=\"float: left;\"><div class=\"suggestion-warning\">Found:</div><div class=\"highlight-code\" id=\"haskell\">case myname == name of\n",
       "  True -> \"hello\"\n",
       "  False -> \"sorry, wrong person\"</div></div><div class=\"suggestion-row\" style=\"float: left;\"><div class=\"suggestion-warning\">Why Not:</div><div class=\"highlight-code\" id=\"haskell\">if myname == name then \"hello\" else \"sorry, wrong person\"</div></div>"
      ],
      "text/plain": [
       "Line 1: Use if\n",
       "Found:\n",
       "case myname == name of\n",
       "  True -> \"hello\"\n",
       "  False -> \"sorry, wrong person\"\n",
       "Why not:\n",
       "if myname == name then \"hello\" else \"sorry, wrong person\""
      ]
     },
     "metadata": {},
     "output_type": "display_data"
    },
    {
     "data": {
      "text/plain": [
       "\"hello\""
      ]
     },
     "metadata": {},
     "output_type": "display_data"
    },
    {
     "data": {
      "text/plain": [
       "\"sorry, wrong person\""
      ]
     },
     "metadata": {},
     "output_type": "display_data"
    }
   ],
   "source": [
    "check'' myname name = case myname == name of \n",
    "     True -> \"hello\"\n",
    "     False -> \"sorry, wrong person\"\n",
    "     \n",
    "check'' \"John\" \"John\"\n",
    "check'' \"John\" \"Mary\""
   ]
  },
  {
   "cell_type": "markdown",
   "metadata": {},
   "source": [
    "b. This factorial function is defined using guards"
   ]
  },
  {
   "cell_type": "code",
   "execution_count": 8,
   "metadata": {},
   "outputs": [],
   "source": [
    "fact x |  x == 0    = 1\n",
    "       |  otherwise = x * fact (x-1)"
   ]
  },
  {
   "cell_type": "markdown",
   "metadata": {},
   "source": [
    "Test this on numbers 0 to 10 by running the code below: "
   ]
  },
  {
   "cell_type": "code",
   "execution_count": 9,
   "metadata": {},
   "outputs": [
    {
     "data": {
      "text/plain": [
       "[1,1,2,6,24,120,720,5040,40320,362880,3628800]"
      ]
     },
     "metadata": {},
     "output_type": "display_data"
    }
   ],
   "source": [
    "map fact [0..10]"
   ]
  },
  {
   "cell_type": "markdown",
   "metadata": {},
   "source": [
    "Translate the declaration of `fact` into a declaration using `if.. then .. else ..`."
   ]
  },
  {
   "cell_type": "code",
   "execution_count": 10,
   "metadata": {},
   "outputs": [],
   "source": [
    "fact' x = if x == 0 then 1 else x * fact (x-1)"
   ]
  },
  {
   "cell_type": "markdown",
   "metadata": {},
   "source": [
    "Translate it again into a function using a case expression on Bool."
   ]
  },
  {
   "cell_type": "code",
   "execution_count": 11,
   "metadata": {},
   "outputs": [
    {
     "data": {
      "text/html": [
       "<style>/* Styles used for the Hoogle display in the pager */\n",
       ".hoogle-doc {\n",
       "display: block;\n",
       "padding-bottom: 1.3em;\n",
       "padding-left: 0.4em;\n",
       "}\n",
       ".hoogle-code {\n",
       "display: block;\n",
       "font-family: monospace;\n",
       "white-space: pre;\n",
       "}\n",
       ".hoogle-text {\n",
       "display: block;\n",
       "}\n",
       ".hoogle-name {\n",
       "color: green;\n",
       "font-weight: bold;\n",
       "}\n",
       ".hoogle-head {\n",
       "font-weight: bold;\n",
       "}\n",
       ".hoogle-sub {\n",
       "display: block;\n",
       "margin-left: 0.4em;\n",
       "}\n",
       ".hoogle-package {\n",
       "font-weight: bold;\n",
       "font-style: italic;\n",
       "}\n",
       ".hoogle-module {\n",
       "font-weight: bold;\n",
       "}\n",
       ".hoogle-class {\n",
       "font-weight: bold;\n",
       "}\n",
       ".get-type {\n",
       "color: green;\n",
       "font-weight: bold;\n",
       "font-family: monospace;\n",
       "display: block;\n",
       "white-space: pre-wrap;\n",
       "}\n",
       ".show-type {\n",
       "color: green;\n",
       "font-weight: bold;\n",
       "font-family: monospace;\n",
       "margin-left: 1em;\n",
       "}\n",
       ".mono {\n",
       "font-family: monospace;\n",
       "display: block;\n",
       "}\n",
       ".err-msg {\n",
       "color: red;\n",
       "font-style: italic;\n",
       "font-family: monospace;\n",
       "white-space: pre;\n",
       "display: block;\n",
       "}\n",
       "#unshowable {\n",
       "color: red;\n",
       "font-weight: bold;\n",
       "}\n",
       ".err-msg.in.collapse {\n",
       "padding-top: 0.7em;\n",
       "}\n",
       ".highlight-code {\n",
       "white-space: pre;\n",
       "font-family: monospace;\n",
       "}\n",
       ".suggestion-warning { \n",
       "font-weight: bold;\n",
       "color: rgb(200, 130, 0);\n",
       "}\n",
       ".suggestion-error { \n",
       "font-weight: bold;\n",
       "color: red;\n",
       "}\n",
       ".suggestion-name {\n",
       "font-weight: bold;\n",
       "}\n",
       "</style><div class=\"suggestion-name\" style=\"clear:both;\">Use if</div><div class=\"suggestion-row\" style=\"float: left;\"><div class=\"suggestion-warning\">Found:</div><div class=\"highlight-code\" id=\"haskell\">case x == 0 of\n",
       "  True -> 1\n",
       "  False -> x * fact (x - 1)</div></div><div class=\"suggestion-row\" style=\"float: left;\"><div class=\"suggestion-warning\">Why Not:</div><div class=\"highlight-code\" id=\"haskell\">if x == 0 then 1 else x * fact (x - 1)</div></div>"
      ],
      "text/plain": [
       "Line 1: Use if\n",
       "Found:\n",
       "case x == 0 of\n",
       "  True -> 1\n",
       "  False -> x * fact (x - 1)\n",
       "Why not:\n",
       "if x == 0 then 1 else x * fact (x - 1)"
      ]
     },
     "metadata": {},
     "output_type": "display_data"
    },
    {
     "data": {
      "text/plain": [
       "120"
      ]
     },
     "metadata": {},
     "output_type": "display_data"
    }
   ],
   "source": [
    "fact'' x = case x == 0 of \n",
    "    True -> 1\n",
    "    False -> x * fact (x-1)\n",
    "\n",
    "fact'' 5"
   ]
  },
  {
   "cell_type": "markdown",
   "metadata": {},
   "source": [
    "Test your solutions against the reference solution by running:"
   ]
  },
  {
   "cell_type": "code",
   "execution_count": 13,
   "metadata": {},
   "outputs": [
    {
     "data": {
      "text/plain": [
       "True"
      ]
     },
     "metadata": {},
     "output_type": "display_data"
    },
    {
     "data": {
      "text/plain": [
       "True"
      ]
     },
     "metadata": {},
     "output_type": "display_data"
    }
   ],
   "source": [
    "factTest1 = map fact [0..10] == map fact' [0..10]\n",
    "factTest2 = map fact [0..10] == map fact'' [0..10]\n",
    "\n",
    "factTest1\n",
    "factTest2"
   ]
  },
  {
   "cell_type": "markdown",
   "metadata": {},
   "source": [
    "c. This exponential function is defined using a case expression. "
   ]
  },
  {
   "cell_type": "code",
   "execution_count": 14,
   "metadata": {},
   "outputs": [
    {
     "data": {
      "text/html": [
       "<style>/* Styles used for the Hoogle display in the pager */\n",
       ".hoogle-doc {\n",
       "display: block;\n",
       "padding-bottom: 1.3em;\n",
       "padding-left: 0.4em;\n",
       "}\n",
       ".hoogle-code {\n",
       "display: block;\n",
       "font-family: monospace;\n",
       "white-space: pre;\n",
       "}\n",
       ".hoogle-text {\n",
       "display: block;\n",
       "}\n",
       ".hoogle-name {\n",
       "color: green;\n",
       "font-weight: bold;\n",
       "}\n",
       ".hoogle-head {\n",
       "font-weight: bold;\n",
       "}\n",
       ".hoogle-sub {\n",
       "display: block;\n",
       "margin-left: 0.4em;\n",
       "}\n",
       ".hoogle-package {\n",
       "font-weight: bold;\n",
       "font-style: italic;\n",
       "}\n",
       ".hoogle-module {\n",
       "font-weight: bold;\n",
       "}\n",
       ".hoogle-class {\n",
       "font-weight: bold;\n",
       "}\n",
       ".get-type {\n",
       "color: green;\n",
       "font-weight: bold;\n",
       "font-family: monospace;\n",
       "display: block;\n",
       "white-space: pre-wrap;\n",
       "}\n",
       ".show-type {\n",
       "color: green;\n",
       "font-weight: bold;\n",
       "font-family: monospace;\n",
       "margin-left: 1em;\n",
       "}\n",
       ".mono {\n",
       "font-family: monospace;\n",
       "display: block;\n",
       "}\n",
       ".err-msg {\n",
       "color: red;\n",
       "font-style: italic;\n",
       "font-family: monospace;\n",
       "white-space: pre;\n",
       "display: block;\n",
       "}\n",
       "#unshowable {\n",
       "color: red;\n",
       "font-weight: bold;\n",
       "}\n",
       ".err-msg.in.collapse {\n",
       "padding-top: 0.7em;\n",
       "}\n",
       ".highlight-code {\n",
       "white-space: pre;\n",
       "font-family: monospace;\n",
       "}\n",
       ".suggestion-warning { \n",
       "font-weight: bold;\n",
       "color: rgb(200, 130, 0);\n",
       "}\n",
       ".suggestion-error { \n",
       "font-weight: bold;\n",
       "color: red;\n",
       "}\n",
       ".suggestion-name {\n",
       "font-weight: bold;\n",
       "}\n",
       "</style><div class=\"suggestion-name\" style=\"clear:both;\">Use if</div><div class=\"suggestion-row\" style=\"float: left;\"><div class=\"suggestion-warning\">Found:</div><div class=\"highlight-code\" id=\"haskell\">case b == 0 of\n",
       "  True -> 1\n",
       "  False -> a * expCase a (b - 1)</div></div><div class=\"suggestion-row\" style=\"float: left;\"><div class=\"suggestion-warning\">Why Not:</div><div class=\"highlight-code\" id=\"haskell\">if b == 0 then 1 else a * expCase a (b - 1)</div></div>"
      ],
      "text/plain": [
       "Line 3: Use if\n",
       "Found:\n",
       "case b == 0 of\n",
       "  True -> 1\n",
       "  False -> a * expCase a (b - 1)\n",
       "Why not:\n",
       "if b == 0 then 1 else a * expCase a (b - 1)"
      ]
     },
     "metadata": {},
     "output_type": "display_data"
    }
   ],
   "source": [
    "--exp' :: Int -> Int -> Int\n",
    "expCase a b =\n",
    "   case b==0 of\n",
    "     True -> 1\n",
    "     False -> a * expCase a (b-1)"
   ]
  },
  {
   "cell_type": "markdown",
   "metadata": {},
   "source": [
    "Test this on various inputs by running the code below: "
   ]
  },
  {
   "cell_type": "code",
   "execution_count": 15,
   "metadata": {},
   "outputs": [
    {
     "data": {
      "text/plain": [
       "[1,1,1,1,1,1,1,1,1,1]"
      ]
     },
     "metadata": {},
     "output_type": "display_data"
    },
    {
     "data": {
      "text/plain": [
       "[2,4,8,16,32,64,128,256,512,1024]"
      ]
     },
     "metadata": {},
     "output_type": "display_data"
    },
    {
     "data": {
      "text/plain": [
       "[3,9,27,81,243,729,2187,6561,19683,59049]"
      ]
     },
     "metadata": {},
     "output_type": "display_data"
    }
   ],
   "source": [
    "map (expCase 1) [1..10]\n",
    "map (expCase 2) [1..10]\n",
    "map (expCase 3) [1..10]"
   ]
  },
  {
   "cell_type": "markdown",
   "metadata": {},
   "source": [
    "Translate it into definitions using `if.. then .. else ..`."
   ]
  },
  {
   "cell_type": "code",
   "execution_count": 16,
   "metadata": {},
   "outputs": [
    {
     "data": {
      "text/plain": [
       "[2,4,8,16,32,64,128,256,512,1024]"
      ]
     },
     "metadata": {},
     "output_type": "display_data"
    }
   ],
   "source": [
    "expIf a b = if b == 0 then 1 else a * expIf a (b-1)\n",
    "\n",
    "map (expIf 2) [1..10]"
   ]
  },
  {
   "cell_type": "markdown",
   "metadata": {},
   "source": [
    "Translate it into a definition using guards. "
   ]
  },
  {
   "cell_type": "code",
   "execution_count": 17,
   "metadata": {},
   "outputs": [
    {
     "data": {
      "text/plain": [
       "[2,4,8,16,32,64,128,256,512,1024]"
      ]
     },
     "metadata": {},
     "output_type": "display_data"
    }
   ],
   "source": [
    "expGuard a b | b == 0 = 1\n",
    "             | otherwise = a * expGuard a (b - 1)\n",
    "             \n",
    "map (expGuard 2) [1..10]"
   ]
  },
  {
   "cell_type": "markdown",
   "metadata": {},
   "source": [
    "Test your solutions against the reference solution by running:"
   ]
  },
  {
   "cell_type": "code",
   "execution_count": 18,
   "metadata": {},
   "outputs": [
    {
     "data": {
      "text/plain": [
       "True"
      ]
     },
     "metadata": {},
     "output_type": "display_data"
    },
    {
     "data": {
      "text/plain": [
       "True"
      ]
     },
     "metadata": {},
     "output_type": "display_data"
    },
    {
     "data": {
      "text/plain": [
       "True"
      ]
     },
     "metadata": {},
     "output_type": "display_data"
    },
    {
     "data": {
      "text/plain": [
       "True"
      ]
     },
     "metadata": {},
     "output_type": "display_data"
    }
   ],
   "source": [
    "expTest2a = map (expCase 2) [0..10] == map (expIf 2) [0..10]\n",
    "expTest3a = map (expCase 3) [0..10] == map (expIf 3) [0..10]\n",
    "expTest2b = map (expCase 2) [0..10] == map (expGuard 2) [0..10]\n",
    "expTest3b = map (expCase 3) [0..10] == map (expGuard 3) [0..10]\n",
    "\n",
    "expTest2a\n",
    "expTest3a\n",
    "expTest2b\n",
    "expTest3b"
   ]
  },
  {
   "cell_type": "markdown",
   "metadata": {},
   "source": [
    "d. This is an old stager. Fizzbuzz is a children's game where you count upwards, but if a number is divisible by 3, then you say \"fizz\", if it's divisible by 5 you say \"buzz\" and if it's divisible by fifteen you say \"fizzbuzz\". \n",
    "So it goes \"One, two, fizz, four, buzz, fizz, seven, eight, fizz, ... , fourteen, fizzbuzz, sixteen,..\". The aim of this question is to write a Haskell function fizzbuzz that returns \"fizz\" if the number is divisible by 3, \"buzz\" if it is divisible by 5, \"fizzbuzz\" if it is divisible by 15 and the empty string \"\" otherwise, just to keep things simple. "
   ]
  },
  {
   "cell_type": "markdown",
   "metadata": {},
   "source": [
    "Do this with guards here: "
   ]
  },
  {
   "cell_type": "code",
   "execution_count": 22,
   "metadata": {},
   "outputs": [],
   "source": [
    "fizzbuzz n | mod n 15 == 0 = \"fizzbuzz\"\n",
    "           | mod n 3 == 0 = \"fizz\"\n",
    "           | mod n 5 == 0 = \"buzz\"\n",
    "           | otherwise = show n"
   ]
  },
  {
   "cell_type": "markdown",
   "metadata": {},
   "source": [
    "And with `if..then..else..` here: "
   ]
  },
  {
   "cell_type": "code",
   "execution_count": 24,
   "metadata": {},
   "outputs": [
    {
     "data": {
      "text/html": [
       "<style>/* Styles used for the Hoogle display in the pager */\n",
       ".hoogle-doc {\n",
       "display: block;\n",
       "padding-bottom: 1.3em;\n",
       "padding-left: 0.4em;\n",
       "}\n",
       ".hoogle-code {\n",
       "display: block;\n",
       "font-family: monospace;\n",
       "white-space: pre;\n",
       "}\n",
       ".hoogle-text {\n",
       "display: block;\n",
       "}\n",
       ".hoogle-name {\n",
       "color: green;\n",
       "font-weight: bold;\n",
       "}\n",
       ".hoogle-head {\n",
       "font-weight: bold;\n",
       "}\n",
       ".hoogle-sub {\n",
       "display: block;\n",
       "margin-left: 0.4em;\n",
       "}\n",
       ".hoogle-package {\n",
       "font-weight: bold;\n",
       "font-style: italic;\n",
       "}\n",
       ".hoogle-module {\n",
       "font-weight: bold;\n",
       "}\n",
       ".hoogle-class {\n",
       "font-weight: bold;\n",
       "}\n",
       ".get-type {\n",
       "color: green;\n",
       "font-weight: bold;\n",
       "font-family: monospace;\n",
       "display: block;\n",
       "white-space: pre-wrap;\n",
       "}\n",
       ".show-type {\n",
       "color: green;\n",
       "font-weight: bold;\n",
       "font-family: monospace;\n",
       "margin-left: 1em;\n",
       "}\n",
       ".mono {\n",
       "font-family: monospace;\n",
       "display: block;\n",
       "}\n",
       ".err-msg {\n",
       "color: red;\n",
       "font-style: italic;\n",
       "font-family: monospace;\n",
       "white-space: pre;\n",
       "display: block;\n",
       "}\n",
       "#unshowable {\n",
       "color: red;\n",
       "font-weight: bold;\n",
       "}\n",
       ".err-msg.in.collapse {\n",
       "padding-top: 0.7em;\n",
       "}\n",
       ".highlight-code {\n",
       "white-space: pre;\n",
       "font-family: monospace;\n",
       "}\n",
       ".suggestion-warning { \n",
       "font-weight: bold;\n",
       "color: rgb(200, 130, 0);\n",
       "}\n",
       ".suggestion-error { \n",
       "font-weight: bold;\n",
       "color: red;\n",
       "}\n",
       ".suggestion-name {\n",
       "font-weight: bold;\n",
       "}\n",
       "</style><div class=\"suggestion-name\" style=\"clear:both;\">Use guards</div><div class=\"suggestion-row\" style=\"float: left;\"><div class=\"suggestion-warning\">Found:</div><div class=\"highlight-code\" id=\"haskell\">fizzbuzz' n\n",
       "  = if mod n 15 == 0 then\n",
       "        \"fizzbuzz\"\n",
       "    else\n",
       "        if mod n 3 == 0 then\n",
       "            \"fizz\"\n",
       "        else\n",
       "            if mod n 5 == 0 then \"buzz\" else show n</div></div><div class=\"suggestion-row\" style=\"float: left;\"><div class=\"suggestion-warning\">Why Not:</div><div class=\"highlight-code\" id=\"haskell\">fizzbuzz' n\n",
       "  | mod n 15 == 0 = \"fizzbuzz\"\n",
       "  | mod n 3 == 0 = \"fizz\"\n",
       "  | mod n 5 == 0 = \"buzz\"\n",
       "  | otherwise = show n</div></div>"
      ],
      "text/plain": [
       "Line 1: Use guards\n",
       "Found:\n",
       "fizzbuzz' n\n",
       "  = if mod n 15 == 0 then\n",
       "        \"fizzbuzz\"\n",
       "    else\n",
       "        if mod n 3 == 0 then\n",
       "            \"fizz\"\n",
       "        else\n",
       "            if mod n 5 == 0 then \"buzz\" else show n\n",
       "Why not:\n",
       "fizzbuzz' n\n",
       "  | mod n 15 == 0 = \"fizzbuzz\"\n",
       "  | mod n 3 == 0 = \"fizz\"\n",
       "  | mod n 5 == 0 = \"buzz\"\n",
       "  | otherwise = show n"
      ]
     },
     "metadata": {},
     "output_type": "display_data"
    }
   ],
   "source": [
    "fizzbuzz' n = \n",
    "  if mod n 15 == 0 then\n",
    "    \"fizzbuzz\"\n",
    "  else\n",
    "    if mod n 3 == 0 then\n",
    "       \"fizz\"\n",
    "    else\n",
    "       if mod n 5 == 0 then\n",
    "          \"buzz\"\n",
    "       else\n",
    "          show n"
   ]
  },
  {
   "cell_type": "markdown",
   "metadata": {},
   "source": [
    "Test your functions on the numbers 0 to 16: "
   ]
  },
  {
   "cell_type": "code",
   "execution_count": 25,
   "metadata": {},
   "outputs": [
    {
     "data": {
      "text/plain": [
       "[\"fizzbuzz\",\"1\",\"2\",\"fizz\",\"4\",\"buzz\",\"fizz\",\"7\",\"8\",\"fizz\",\"buzz\",\"11\",\"fizz\",\"13\",\"14\",\"fizzbuzz\",\"16\"]"
      ]
     },
     "metadata": {},
     "output_type": "display_data"
    },
    {
     "data": {
      "text/plain": [
       "[\"fizzbuzz\",\"1\",\"2\",\"fizz\",\"4\",\"buzz\",\"fizz\",\"7\",\"8\",\"fizz\",\"buzz\",\"11\",\"fizz\",\"13\",\"14\",\"fizzbuzz\",\"16\"]"
      ]
     },
     "metadata": {},
     "output_type": "display_data"
    }
   ],
   "source": [
    "map fizzbuzz [0..16]\n",
    "map fizzbuzz' [0..16]"
   ]
  },
  {
   "cell_type": "markdown",
   "metadata": {},
   "source": [
    "## 3. Pattern Matching"
   ]
  },
  {
   "cell_type": "markdown",
   "metadata": {},
   "source": [
    "When you write a function definition, like:"
   ]
  },
  {
   "cell_type": "code",
   "execution_count": null,
   "metadata": {},
   "outputs": [],
   "source": [
    "hypotenuse a b = sqrt (a*a + b*b)"
   ]
  },
  {
   "cell_type": "markdown",
   "metadata": {},
   "source": [
    "`a` and `b` represent things the function can be applied to. In this case they are just variables. But they can also be **patterns**. "
   ]
  },
  {
   "cell_type": "code",
   "execution_count": null,
   "metadata": {},
   "outputs": [],
   "source": [
    "foo [] = 0\n",
    "foo (x:xs) = x + foo xs"
   ]
  },
  {
   "cell_type": "code",
   "execution_count": null,
   "metadata": {},
   "outputs": [],
   "source": [
    "foo [1,4]"
   ]
  },
  {
   "cell_type": "markdown",
   "metadata": {},
   "source": [
    "In the code above `[]` and `x:xs` are patterns. The first clause gives a definition that works for empty lists, and the second one for non-empty lists. So we can write definitions by cases, where the case depends on whether a list is empty or not. Moreover, it lets us use something (`x`) for the head of the list, and something else (`xs`) for the tail, so we can access the components. "
   ]
  },
  {
   "cell_type": "markdown",
   "metadata": {},
   "source": [
    "This means we can use this mechanism to implement versions of the standard `head` and `tail` functions. "
   ]
  },
  {
   "cell_type": "code",
   "execution_count": null,
   "metadata": {},
   "outputs": [],
   "source": [
    "head' (x:xs) = x\n",
    "tail' (x:xs) = xs"
   ]
  },
  {
   "cell_type": "code",
   "execution_count": null,
   "metadata": {},
   "outputs": [],
   "source": [
    "head' [1..4]\n",
    "tail' [1..4]"
   ]
  },
  {
   "cell_type": "markdown",
   "metadata": {},
   "source": [
    "We can use the same mechanism to implement versions of the first and second projection functions: "
   ]
  },
  {
   "cell_type": "code",
   "execution_count": null,
   "metadata": {},
   "outputs": [],
   "source": [
    "fst' (x,y) = x"
   ]
  },
  {
   "cell_type": "code",
   "execution_count": null,
   "metadata": {},
   "outputs": [],
   "source": [
    "fst' (\"carrot\",3)"
   ]
  },
  {
   "cell_type": "markdown",
   "metadata": {},
   "source": [
    "Implement `snd'` for yourself, below."
   ]
  },
  {
   "cell_type": "code",
   "execution_count": 26,
   "metadata": {},
   "outputs": [],
   "source": [
    "snd' (x, y) = y"
   ]
  },
  {
   "cell_type": "code",
   "execution_count": 27,
   "metadata": {},
   "outputs": [
    {
     "data": {
      "text/plain": [
       "3"
      ]
     },
     "metadata": {},
     "output_type": "display_data"
    }
   ],
   "source": [
    "snd' (\"carrot\",3)"
   ]
  },
  {
   "cell_type": "markdown",
   "metadata": {},
   "source": [
    "In this case the pattern is `(x,y)`. The function has a single argument, it has to be a pair, and you can use `x` for the first component of the pair, and `y` for the second. (That should help you with the task above if you needed a hint). "
   ]
  },
  {
   "cell_type": "markdown",
   "metadata": {},
   "source": [
    "You can also use the booleans `True` and `False` as patterns. This, essentially allows you to reduce if..then..else to  a definition by cases: "
   ]
  },
  {
   "cell_type": "code",
   "execution_count": 33,
   "metadata": {},
   "outputs": [],
   "source": [
    "cond True caseTrue caseFalse = caseTrue\n",
    "cond False caseTrue caseFalse = caseFalse"
   ]
  },
  {
   "cell_type": "code",
   "execution_count": null,
   "metadata": {},
   "outputs": [],
   "source": [
    "check myname name =\n",
    "  if name == myname then \"hello\" else \"sorry, wrong person\"\n",
    "check' myname name = cond (name == myname) \"hello\" \"sorry, wrong person\""
   ]
  },
  {
   "cell_type": "markdown",
   "metadata": {},
   "source": [
    "Implement the function `nonEmpty`, which returns `True` for a non-empty list, and `False` for an empty one using a pattern-matching definition as above. "
   ]
  },
  {
   "cell_type": "code",
   "execution_count": 29,
   "metadata": {},
   "outputs": [
    {
     "data": {
      "text/plain": [
       "True"
      ]
     },
     "metadata": {},
     "output_type": "display_data"
    },
    {
     "data": {
      "text/plain": [
       "False"
      ]
     },
     "metadata": {},
     "output_type": "display_data"
    }
   ],
   "source": [
    "nonEmpty [] = False\n",
    "nonEmpty (_:_) = True\n",
    "\n",
    "nonEmpty \"abc\"\n",
    "nonEmpty []"
   ]
  },
  {
   "cell_type": "markdown",
   "metadata": {},
   "source": [
    "Use the function `cond` to implement the factorial function. (Spot the way we pulled apart the `if..then..else..` in the `check` example above, and apply it to your definition of factorial). "
   ]
  },
  {
   "cell_type": "code",
   "execution_count": 34,
   "metadata": {},
   "outputs": [
    {
     "data": {
      "text/plain": [
       "[1,2,6,24,120]"
      ]
     },
     "metadata": {},
     "output_type": "display_data"
    }
   ],
   "source": [
    "factCond n = cond (n==0) 1 (n * factCond (n-1))\n",
    "\n",
    "map factCond [1..5]"
   ]
  },
  {
   "cell_type": "markdown",
   "metadata": {},
   "source": [
    "## 4. The offside rule"
   ]
  },
  {
   "cell_type": "markdown",
   "metadata": {},
   "source": [
    "Debug the following code, which has indentation issues related to the offside rule: "
   ]
  },
  {
   "cell_type": "code",
   "execution_count": 37,
   "metadata": {},
   "outputs": [],
   "source": [
    "isphone s = take 3 s == \"TEL\"\n",
    "strip s = tail (dropWhile (/=':') s)\n",
    "getPhones card = phones\n",
    "   where\n",
    "      all_lines = lines card\n",
    "      phone_lines = filter isphone all_lines\n",
    "      phones = map strip phone_lines"
   ]
  },
  {
   "cell_type": "markdown",
   "metadata": {},
   "source": [
    "## 5. The vcard example"
   ]
  },
  {
   "cell_type": "markdown",
   "metadata": {},
   "source": [
    "Recall the vcard code from last week. "
   ]
  },
  {
   "cell_type": "code",
   "execution_count": 38,
   "metadata": {},
   "outputs": [],
   "source": [
    "isTELLine line = take 3 line == \"TEL\"\n",
    "getTELFromLine line = tail $ dropWhile (/= ':') line\n",
    "getTELFromVcard card = map getTELFromLine $ filter isTELLine $ lines card"
   ]
  },
  {
   "cell_type": "markdown",
   "metadata": {},
   "source": [
    "Modify this to produce two functions that will extract the email addresses and the names of the owners of the cards given to them. "
   ]
  },
  {
   "cell_type": "code",
   "execution_count": 42,
   "metadata": {},
   "outputs": [],
   "source": [
    "isEMAILLine line = take 5 line == \"EMAIL\"\n",
    "getEMAILFromLine line = tail $ dropWhile (/= ':') line\n",
    "getEMAILsFromVcard card = map getEMAILFromLine $ filter isEMAILLine $ lines card"
   ]
  },
  {
   "cell_type": "markdown",
   "metadata": {},
   "source": [
    "Here is a small example to test on: "
   ]
  },
  {
   "cell_type": "code",
   "execution_count": 43,
   "metadata": {},
   "outputs": [
    {
     "data": {
      "text/plain": [
       "[\"jane.doe@notmail.com\",\"jim.doe@not.com\",\"JohnDoe@nogmail.com\"]"
      ]
     },
     "metadata": {},
     "output_type": "display_data"
    }
   ],
   "source": [
    "cards = \"BEGIN:VCARD\\nVERSION:3.0\\nPRODID:-//Apple Inc.//Mac OS X 10.9.5//EN\\nN:Doe;Jane;;;\\nFN:Jane Doe\\nEMAIL;type=INTERNET;type=HOME;type=pref:jane.doe@notmail.com\\nTEL;type=CELL;type=VOICE;type=pref:0123 456789\\nTEL;type=WORK;type=VOICE:020 1234 5678\\nADR;type=HOME;type=pref:;;1 Not Street;London;;A1 4BZ;\\nitem1.URL;type=pref:jane.doe@me.net\\nitem1.X-ABLabel:_$!<HomePage>!$_\\nUID:8400c795-9dbc-487d-9d2a-de3311f9d075\\nX-ABUID:8400C795-9DBC-487D-9D2A-DE3311F9D075:ABPerson\\nEND:VCARD\\nBEGIN:VCARD\\nVERSION:3.0\\nPRODID:-//Apple Inc.//Mac OS X 10.9.5//EN\\nN:Doe;Jim Barnaby;;;\\nFN:Jim Barnaby Doe\\nEMAIL;type=INTERNET;type=WORK;type=pref:jim.doe@not.com\\nTEL;type=CELL;type=VOICE;type=pref:02468 123456\\nTEL;type=WORK;type=VOICE:020 2345 6789\\nUID:7476fd69-9bf1-416e-b093-05ddc23c385f\\nX-ABUID:7476FD69-9BF1-416E-B093-05DDC23C385F:ABPerson\\nEND:VCARD\\nBEGIN:VCARD\\nVERSION:3.0\\nPRODID:-//Apple Inc.//Mac OS X 10.9.5//EN\\nN:Doe;John;;;\\nFN:John Doe\\nORG:Queen Mary;\\nEMAIL;type=INTERNET;type=HOME;type=pref:JohnDoe@nogmail.com\\nTEL;type=CELL;type=VOICE;type=pref:0751 234567\\nTEL;type=HOME;type=VOICE:020 7123 4567\\nADR;type=HOME;type=pref:;;42 Nowhere St;London;;E1 0XX;\\nUID:8bb3d68ec846f1\\nX-ABUID:608AE44E-BF05-4713-A748-AAE3CAB64858:ABPerson\\nEND:VCARD\\n\"\n",
    "\n",
    "getEMAILsFromVcard cards"
   ]
  },
  {
   "cell_type": "markdown",
   "metadata": {},
   "source": [
    "This represents the following cards (clearer in the code than if you compile it): "
   ]
  },
  {
   "cell_type": "markdown",
   "metadata": {},
   "source": [
    "BEGIN:VCARD\n",
    "VERSION:3.0\n",
    "PRODID:-//Apple Inc.//Mac OS X 10.9.5//EN\n",
    "N:Doe;Jane;;;\n",
    "FN:Jane Doe\n",
    "EMAIL;type=INTERNET;type=HOME;type=pref:jane.doe@notmail.com\n",
    "TEL;type=CELL;type=VOICE;type=pref:0123 456789\n",
    "TEL;type=WORK;type=VOICE:020 1234 5678\n",
    "ADR;type=HOME;type=pref:;;1 Not Street;London;;A1 4BZ;\n",
    "item1.URL;type=pref:jane.doe@me.net\n",
    "item1.X-ABLabel:_$!<HomePage>!$_\n",
    "UID:8400c795-9dbc-487d-9d2a-de3311f9d075\n",
    "X-ABUID:8400C795-9DBC-487D-9D2A-DE3311F9D075:ABPerson\n",
    "END:VCARD\n",
    "BEGIN:VCARD\n",
    "VERSION:3.0\n",
    "PRODID:-//Apple Inc.//Mac OS X 10.9.5//EN\n",
    "N:Doe;Jim Barnaby;;;\n",
    "FN:Jim Barnaby Doe\n",
    "EMAIL;type=INTERNET;type=WORK;type=pref:jim.doe@not.com\n",
    "TEL;type=CELL;type=VOICE;type=pref:02468 123456\n",
    "TEL;type=WORK;type=VOICE:020 2345 6789\n",
    "UID:7476fd69-9bf1-416e-b093-05ddc23c385f\n",
    "X-ABUID:7476FD69-9BF1-416E-B093-05DDC23C385F:ABPerson\n",
    "END:VCARD\n",
    "BEGIN:VCARD\n",
    "VERSION:3.0\n",
    "PRODID:-//Apple Inc.//Mac OS X 10.9.5//EN\n",
    "N:Doe;John;;;\n",
    "FN:John Doe\n",
    "ORG:Queen Mary;\n",
    "EMAIL;type=INTERNET;type=HOME;type=pref:JohnDoe@nogmail.com\n",
    "TEL;type=CELL;type=VOICE;type=pref:0751 234567\n",
    "TEL;type=HOME;type=VOICE:020 7123 4567\n",
    "ADR;type=HOME;type=pref:;;42 Nowhere St;London;;E1 0XX;\n",
    "UID:8bb3d68ec846f1\n",
    "X-ABUID:608AE44E-BF05-4713-A748-AAE3CAB64858:ABPerson\n",
    "END:VCARD"
   ]
  },
  {
   "cell_type": "code",
   "execution_count": null,
   "metadata": {},
   "outputs": [],
   "source": []
  }
 ],
 "metadata": {
  "kernelspec": {
   "display_name": "Haskell",
   "language": "haskell",
   "name": "haskell"
  },
  "language_info": {
   "codemirror_mode": "ihaskell",
   "file_extension": ".hs",
   "mimetype": "text/x-haskell",
   "name": "haskell",
   "pygments_lexer": "Haskell",
   "version": "8.10.4"
  }
 },
 "nbformat": 4,
 "nbformat_minor": 4
}

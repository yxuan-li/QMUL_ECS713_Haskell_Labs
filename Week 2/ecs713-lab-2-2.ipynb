{
 "cells": [
  {
   "cell_type": "markdown",
   "metadata": {},
   "source": [
    "# ECS713: Week 2 Lab Sheet - Part 2/2"
   ]
  },
  {
   "cell_type": "markdown",
   "metadata": {},
   "source": [
    "This lab sheet covers \n",
    "- type (synonym) declarations\n",
    "- (algebraic) datatype declarations\n",
    "- simple function definitions by pattern-matching on algebraic datatypes"
   ]
  },
  {
   "cell_type": "markdown",
   "metadata": {},
   "source": [
    "## Learning Objectives"
   ]
  },
  {
   "cell_type": "markdown",
   "metadata": {},
   "source": [
    "By the time you complete this sheet you should be able to\n",
    "- use simple Haskell type definitions\n",
    "- write simple Haskell enumerated datatypes\n",
    "- write simple Haskell parametrised algebraic datatypes\n",
    "- write function definitions by pattern-matching on parametrised algebraic datatypes"
   ]
  },
  {
   "cell_type": "markdown",
   "metadata": {},
   "source": [
    "## Turn off the annoying linter"
   ]
  },
  {
   "cell_type": "markdown",
   "metadata": {},
   "source": [
    "Run the cell below to turn off the annoying linter, which suggests improvements to your code that aren't appropriate for these exercises. "
   ]
  },
  {
   "cell_type": "code",
   "execution_count": null,
   "metadata": {},
   "outputs": [],
   "source": [
    ":opt no-lint"
   ]
  },
  {
   "cell_type": "markdown",
   "metadata": {},
   "source": [
    "## Task 1. TYPE (Synonyms)"
   ]
  },
  {
   "cell_type": "markdown",
   "metadata": {},
   "source": [
    "Type synonyms do not add to the range of types available in your program, but they do help document how you intend to use the data. "
   ]
  },
  {
   "cell_type": "code",
   "execution_count": null,
   "metadata": {},
   "outputs": [],
   "source": [
    "type Name = String\n",
    "type Weight = Int\n",
    "type TEL = String"
   ]
  },
  {
   "cell_type": "markdown",
   "metadata": {},
   "source": [
    "Type names should begin with upper case. "
   ]
  },
  {
   "cell_type": "markdown",
   "metadata": {},
   "source": [
    "Why did I use `String` rather than, say, `Int` for the type `TEL`, which is expected to contain a telephone **number**? "
   ]
  },
  {
   "cell_type": "markdown",
   "metadata": {},
   "source": [
    "Put your solution here: a String of characters between '0' and '9'"
   ]
  },
  {
   "cell_type": "markdown",
   "metadata": {},
   "source": [
    "Given the definitions above, answer and explain: \n",
    "1. Is `-25` a valid `Weight`?\n",
    "2. Is \"Gerald\" a valid phone number, i.e. a valid element of type `TEL`?\n",
    "3. If `foo` is a function of type `[Char] -> Int`, and `myPhone` has type `TEL`, can I apply `foo` to `myPhone` (i.e. can I call `foo` with argument `myPhone`?\n",
    "4. With the same function `foo`, if `myWeight` has type `Weight`, can I apply `foo` to `myWeight`?"
   ]
  },
  {
   "cell_type": "raw",
   "metadata": {},
   "source": [
    "1. Yes, it is, -25 is a valid Int number.\n",
    "2. Yes, by defination it is.\n",
    "3. If TEL is made of Char()Int, then yes, which means TEL only contains character between '0' and '9'.\n",
    "4. No, foo takes [Char] but Weight is Int."
   ]
  },
  {
   "cell_type": "markdown",
   "metadata": {},
   "source": [
    "## Task 2. Enumerated Types"
   ]
  },
  {
   "cell_type": "markdown",
   "metadata": {},
   "source": [
    "The simplest form of algebraic datatype is where we just have a list of constants, an enumerated type. In Haskell all the constants have to start with an upper case character. "
   ]
  },
  {
   "cell_type": "markdown",
   "metadata": {},
   "source": [
    "Example:"
   ]
  },
  {
   "cell_type": "code",
   "execution_count": null,
   "metadata": {},
   "outputs": [],
   "source": [
    "data Direction = North | South | East | West"
   ]
  },
  {
   "cell_type": "markdown",
   "metadata": {},
   "source": [
    "Give enumerated types for: \n",
    "- days of the week\n",
    "- months"
   ]
  },
  {
   "cell_type": "code",
   "execution_count": null,
   "metadata": {},
   "outputs": [],
   "source": [
    "-- answer here\n",
    "data WeekDays = Monday | Tuesday | Wednesday | Thrusday | Friday | Saturday | Sunday"
   ]
  },
  {
   "cell_type": "code",
   "execution_count": null,
   "metadata": {},
   "outputs": [],
   "source": [
    "data Monthes = January | Febuary | March | April | May | June | July | August | Septemeber | October | Novemeber | Decemebe"
   ]
  },
  {
   "cell_type": "markdown",
   "metadata": {},
   "source": [
    "Here is an example we have seen before, but not thought of like this: "
   ]
  },
  {
   "cell_type": "code",
   "execution_count": null,
   "metadata": {},
   "outputs": [],
   "source": [
    "data Bool = False | True"
   ]
  },
  {
   "cell_type": "markdown",
   "metadata": {},
   "source": [
    "## Task 3. Parametrised Algebraic Types"
   ]
  },
  {
   "cell_type": "markdown",
   "metadata": {},
   "source": [
    "Going back to the vcard example we looked at, a card has a structure where it contains a sequence of lines, each containing some kind of attribute, like a name, phone number, or address. But the number and sequence of these is not determined. So we might want to represent a card as a list of attributes, each of which is parametrised. \n"
   ]
  },
  {
   "cell_type": "code",
   "execution_count": null,
   "metadata": {},
   "outputs": [],
   "source": [
    "type VCard = [CardAttribute]\n",
    "data CardAttribute = NAMEAttribute String\n",
    "                   | TELAttribute String\n",
    "                   | EMAILLAttribute String\n",
    "    deriving (Eq, Show)"
   ]
  },
  {
   "cell_type": "markdown",
   "metadata": {},
   "source": [
    "This is completely oversimplified, but it is to illustrate the idea. The constructors of our algebraic datatype are now parametrised by `String` (they could be three different types). So we have a single type that contains three different sorts of object, each parametrised by a `String` that represents, respectively, a name, a phone number and an email address. "
   ]
  },
  {
   "cell_type": "markdown",
   "metadata": {},
   "source": [
    "Note: by default, Haskell does not know how to print out values of an arbitrary algebraic datatype, or to compare them for equality. The `deriving` directive tells Haskell to use the default methods. "
   ]
  },
  {
   "cell_type": "markdown",
   "metadata": {},
   "source": [
    "The functions `NAMEAttribute`, `TELAttribute` and `EMAILAttribute` \n",
    "- all begin with upper case\n",
    "- are refered to as **constructors**\n",
    "- could have more than one parameter\n",
    "- aren't really functions because they just package the data contained in their parameters. "
   ]
  },
  {
   "cell_type": "markdown",
   "metadata": {},
   "source": [
    "We have already met some examples of types we could write like this (or almost... Haskell gives them special syntax we can't replicate). These are pairs and lists:"
   ]
  },
  {
   "cell_type": "code",
   "execution_count": null,
   "metadata": {},
   "outputs": [],
   "source": [
    "data MyPairOfInt = MakePair Int Int\n",
    "data MyListOfInt = MyEmptyListOfInt | MyCons Int MyListOfInt "
   ]
  },
  {
   "cell_type": "markdown",
   "metadata": {},
   "source": [
    "In this way of thinking, the pair syntax `(,)`, as in `(3,4)` is a piece of non-standard syntax for a standard algebraic \n",
    "datatype constructor, as are `[]` and `:` for lists. "
   ]
  },
  {
   "cell_type": "markdown",
   "metadata": {
    "tags": []
   },
   "source": [
    "Note: pairs and lists allow variable types. We can also make algebraic datatypes using variable types as well (\"polymorphic\" in the jargon), but not just yet. "
   ]
  },
  {
   "cell_type": "markdown",
   "metadata": {},
   "source": [
    "Suppose you wanted to design a bookkeeping system, in which each entry was either a Credit or Debit, with an amount an initial balance, and the name of the payee (or creditor). Design an algebraic datatype to represent an individual entry. "
   ]
  },
  {
   "cell_type": "code",
   "execution_count": 9,
   "metadata": {},
   "outputs": [
    {
     "data": {
      "text/html": [
       "<style>/* Styles used for the Hoogle display in the pager */\n",
       ".hoogle-doc {\n",
       "display: block;\n",
       "padding-bottom: 1.3em;\n",
       "padding-left: 0.4em;\n",
       "}\n",
       ".hoogle-code {\n",
       "display: block;\n",
       "font-family: monospace;\n",
       "white-space: pre;\n",
       "}\n",
       ".hoogle-text {\n",
       "display: block;\n",
       "}\n",
       ".hoogle-name {\n",
       "color: green;\n",
       "font-weight: bold;\n",
       "}\n",
       ".hoogle-head {\n",
       "font-weight: bold;\n",
       "}\n",
       ".hoogle-sub {\n",
       "display: block;\n",
       "margin-left: 0.4em;\n",
       "}\n",
       ".hoogle-package {\n",
       "font-weight: bold;\n",
       "font-style: italic;\n",
       "}\n",
       ".hoogle-module {\n",
       "font-weight: bold;\n",
       "}\n",
       ".hoogle-class {\n",
       "font-weight: bold;\n",
       "}\n",
       ".get-type {\n",
       "color: green;\n",
       "font-weight: bold;\n",
       "font-family: monospace;\n",
       "display: block;\n",
       "white-space: pre-wrap;\n",
       "}\n",
       ".show-type {\n",
       "color: green;\n",
       "font-weight: bold;\n",
       "font-family: monospace;\n",
       "margin-left: 1em;\n",
       "}\n",
       ".mono {\n",
       "font-family: monospace;\n",
       "display: block;\n",
       "}\n",
       ".err-msg {\n",
       "color: red;\n",
       "font-style: italic;\n",
       "font-family: monospace;\n",
       "white-space: pre;\n",
       "display: block;\n",
       "}\n",
       "#unshowable {\n",
       "color: red;\n",
       "font-weight: bold;\n",
       "}\n",
       ".err-msg.in.collapse {\n",
       "padding-top: 0.7em;\n",
       "}\n",
       ".highlight-code {\n",
       "white-space: pre;\n",
       "font-family: monospace;\n",
       "}\n",
       ".suggestion-warning { \n",
       "font-weight: bold;\n",
       "color: rgb(200, 130, 0);\n",
       "}\n",
       ".suggestion-error { \n",
       "font-weight: bold;\n",
       "color: red;\n",
       "}\n",
       ".suggestion-name {\n",
       "font-weight: bold;\n",
       "}\n",
       "</style><div class=\"suggestion-name\" style=\"clear:both;\">Use newtype instead of data</div><div class=\"suggestion-row\" style=\"float: left;\"><div class=\"suggestion-warning\">Found:</div><div class=\"highlight-code\" id=\"haskell\">data Library\n",
       "  = Library [BookKeeping]\n",
       "  deriving (Show, Eq)</div></div><div class=\"suggestion-row\" style=\"float: left;\"><div class=\"suggestion-warning\">Why Not:</div><div class=\"highlight-code\" id=\"haskell\">newtype Library\n",
       "  = Library [BookKeeping]\n",
       "  deriving (Show, Eq)</div></div>"
      ],
      "text/plain": [
       "Line 8: Use newtype instead of data\n",
       "Found:\n",
       "data Library\n",
       "  = Library [BookKeeping]\n",
       "  deriving (Show, Eq)\n",
       "Why not:\n",
       "newtype Library\n",
       "  = Library [BookKeeping]\n",
       "  deriving (Show, Eq)"
      ]
     },
     "metadata": {},
     "output_type": "display_data"
    }
   ],
   "source": [
    "-- define data structures\n",
    "data Value = CreditValue Double\n",
    "  | DebitValue Double\n",
    "  | Empty \n",
    "  deriving (Show, Eq) \n",
    "newtype PayeeName = PayeeName String deriving (Show, Eq)\n",
    "data BookKeeping = BookKeeping Value PayeeName deriving (Show, Eq)  \n",
    "data Library = Library [BookKeeping]  deriving (Show, Eq)"
   ]
  },
  {
   "cell_type": "code",
   "execution_count": 26,
   "metadata": {},
   "outputs": [
    {
     "data": {
      "text/plain": [
       "BookKeeping (Value (CreditValue 10.0) (DebitValue 20.0)) (PayeeName \"yxl\")"
      ]
     },
     "metadata": {},
     "output_type": "display_data"
    }
   ],
   "source": [
    "data CreditValue = CreditValue Double deriving (Show, Eq)\n",
    "data DebitValue =  DebitValue Double deriving (Show, Eq)\n",
    "data Value = Value CreditValue DebitValue deriving (Show, Eq)\n",
    "newtype PayeeName = PayeeName String deriving (Show, Eq)\n",
    "data BookKeeping = BookKeeping Value PayeeName deriving (Show, Eq)  \n",
    "data Library = Library [BookKeeping]  deriving (Show, Eq)\n",
    "\n",
    "let c1 = CreditValue 10.0\n",
    "let d1 = DebitValue 20.0\n",
    "let v1 = Value c1 d1\n",
    "let p1 = PayeeName \"yxl\"\n",
    "let b1 = BookKeeping v1 p1\n",
    "b1"
   ]
  },
  {
   "cell_type": "code",
   "execution_count": 1,
   "metadata": {},
   "outputs": [],
   "source": [
    "data Value = Value\n",
    "  { credit :: Double\n",
    "  , debit  :: Double\n",
    "  } deriving (Show)\n",
    "data BookKeeping = BookKeeping\n",
    "  { value :: Value\n",
    "  , name  :: String\n",
    "  } deriving (Show)"
   ]
  },
  {
   "cell_type": "code",
   "execution_count": 2,
   "metadata": {},
   "outputs": [
    {
     "data": {
      "text/plain": [
       "BookKeeping {value = Value {credit = 10.0, debit = 20.0}, name = \"yxl\"}"
      ]
     },
     "metadata": {},
     "output_type": "display_data"
    },
    {
     "data": {
      "text/plain": [
       "10.0"
      ]
     },
     "metadata": {},
     "output_type": "display_data"
    }
   ],
   "source": [
    "let example = BookKeeping (Value 10.0 20.0 ) \"yxl\"\n",
    "example\n",
    "f a = credit $ value a\n",
    "f example"
   ]
  },
  {
   "cell_type": "markdown",
   "metadata": {},
   "source": [
    "## Task 4. Defining Functions by Pattern-Matching"
   ]
  },
  {
   "cell_type": "markdown",
   "metadata": {},
   "source": [
    "We usually define functions on algebraic datatypes by pattern-matching:"
   ]
  },
  {
   "cell_type": "code",
   "execution_count": null,
   "metadata": {},
   "outputs": [],
   "source": [
    "data Direction = North | South | East | West"
   ]
  },
  {
   "cell_type": "code",
   "execution_count": null,
   "metadata": {},
   "outputs": [],
   "source": [
    "data Position = Point Int Int\n",
    "  deriving (Eq,Show)\n",
    "\n",
    "step :: Direction -> Position -> Position\n",
    "step North (Point x y) = Point x (y+1)\n",
    "step South (Point x y) = Point x (y-1)\n",
    "step East (Point x y) = Point (x+1) y\n",
    "step West (Point x y) = Point (x-1) y"
   ]
  },
  {
   "cell_type": "markdown",
   "metadata": {},
   "source": [
    "This is pattern-matching on the `Direction` parameter to choose the case, and pattern-matching on the `Position` parameter to get the coordinates. "
   ]
  },
  {
   "cell_type": "markdown",
   "metadata": {},
   "source": [
    "Using your bookkeeping datatype write a function `finalBalance` to compute the balance after the transaction. "
   ]
  },
  {
   "cell_type": "code",
   "execution_count": 18,
   "metadata": {},
   "outputs": [],
   "source": [
    "data Actions = RentByCredit | TopUpCredit | RentByDebit | TopUpDebit"
   ]
  },
  {
   "cell_type": "code",
   "execution_count": 19,
   "metadata": {},
   "outputs": [],
   "source": [
    "data BookKeeping = BookKeeping Double Double String deriving (Show, Eq)  "
   ]
  },
  {
   "cell_type": "code",
   "execution_count": null,
   "metadata": {},
   "outputs": [],
   "source": [
    "finalBalance :: Actions -> BookKeeping -> BookKeeping\n",
    "finalBalance RentByCredit (BookKeeping x y z) = BookKeeping (x-1) y z\n",
    "finalBalance TopUpCredit (BookKeeping x y z) = BookKeeping (x+1) y z\n",
    "finalBalance RentByDebit (BookKeeping x y z) = BookKeeping x (y-1) z\n",
    "finalBalance TopUpDebit (BookKeeping x y z) = BookKeeping x (y+1) z"
   ]
  },
  {
   "cell_type": "code",
   "execution_count": 21,
   "metadata": {},
   "outputs": [],
   "source": [
    "let user1 = BookKeeping 100.0 200.0 \"yxl\""
   ]
  },
  {
   "cell_type": "code",
   "execution_count": 31,
   "metadata": {},
   "outputs": [
    {
     "data": {
      "text/plain": [
       "BookKeeping 90.0 200.0 \"yxl\""
      ]
     },
     "metadata": {},
     "output_type": "display_data"
    }
   ],
   "source": [
    "let usertmp = finalBalance RentByCredit user1\n",
    "user1 = usertmp\n",
    "user1"
   ]
  },
  {
   "cell_type": "code",
   "execution_count": null,
   "metadata": {},
   "outputs": [],
   "source": []
  },
  {
   "cell_type": "code",
   "execution_count": 1,
   "metadata": {},
   "outputs": [],
   "source": [
    "data Value = Value\n",
    "  { credit :: Double\n",
    "  , debit  :: Double\n",
    "  } deriving (Show)\n",
    "data BookKeeping = BookKeeping\n",
    "  { value :: Value\n",
    "  , name  :: String\n",
    "  } deriving (Show)"
   ]
  },
  {
   "cell_type": "code",
   "execution_count": 2,
   "metadata": {},
   "outputs": [
    {
     "data": {
      "text/html": [
       "<style>/* Styles used for the Hoogle display in the pager */\n",
       ".hoogle-doc {\n",
       "display: block;\n",
       "padding-bottom: 1.3em;\n",
       "padding-left: 0.4em;\n",
       "}\n",
       ".hoogle-code {\n",
       "display: block;\n",
       "font-family: monospace;\n",
       "white-space: pre;\n",
       "}\n",
       ".hoogle-text {\n",
       "display: block;\n",
       "}\n",
       ".hoogle-name {\n",
       "color: green;\n",
       "font-weight: bold;\n",
       "}\n",
       ".hoogle-head {\n",
       "font-weight: bold;\n",
       "}\n",
       ".hoogle-sub {\n",
       "display: block;\n",
       "margin-left: 0.4em;\n",
       "}\n",
       ".hoogle-package {\n",
       "font-weight: bold;\n",
       "font-style: italic;\n",
       "}\n",
       ".hoogle-module {\n",
       "font-weight: bold;\n",
       "}\n",
       ".hoogle-class {\n",
       "font-weight: bold;\n",
       "}\n",
       ".get-type {\n",
       "color: green;\n",
       "font-weight: bold;\n",
       "font-family: monospace;\n",
       "display: block;\n",
       "white-space: pre-wrap;\n",
       "}\n",
       ".show-type {\n",
       "color: green;\n",
       "font-weight: bold;\n",
       "font-family: monospace;\n",
       "margin-left: 1em;\n",
       "}\n",
       ".mono {\n",
       "font-family: monospace;\n",
       "display: block;\n",
       "}\n",
       ".err-msg {\n",
       "color: red;\n",
       "font-style: italic;\n",
       "font-family: monospace;\n",
       "white-space: pre;\n",
       "display: block;\n",
       "}\n",
       "#unshowable {\n",
       "color: red;\n",
       "font-weight: bold;\n",
       "}\n",
       ".err-msg.in.collapse {\n",
       "padding-top: 0.7em;\n",
       "}\n",
       ".highlight-code {\n",
       "white-space: pre;\n",
       "font-family: monospace;\n",
       "}\n",
       ".suggestion-warning { \n",
       "font-weight: bold;\n",
       "color: rgb(200, 130, 0);\n",
       "}\n",
       ".suggestion-error { \n",
       "font-weight: bold;\n",
       "color: red;\n",
       "}\n",
       ".suggestion-name {\n",
       "font-weight: bold;\n",
       "}\n",
       "</style><div class=\"suggestion-name\" style=\"clear:both;\">Eta reduce</div><div class=\"suggestion-row\" style=\"float: left;\"><div class=\"suggestion-warning\">Found:</div><div class=\"highlight-code\" id=\"haskell\">changeName (BookKeeping v n) z = BookKeeping v z</div></div><div class=\"suggestion-row\" style=\"float: left;\"><div class=\"suggestion-warning\">Why Not:</div><div class=\"highlight-code\" id=\"haskell\">changeName (BookKeeping v n) = BookKeeping v</div></div>"
      ],
      "text/plain": [
       "Line 2: Eta reduce\n",
       "Found:\n",
       "changeName (BookKeeping v n) z = BookKeeping v z\n",
       "Why not:\n",
       "changeName (BookKeeping v n) = BookKeeping v"
      ]
     },
     "metadata": {},
     "output_type": "display_data"
    }
   ],
   "source": [
    "changeName :: BookKeeping -> String -> BookKeeping\n",
    "changeName (BookKeeping v n) z = BookKeeping v z"
   ]
  },
  {
   "cell_type": "code",
   "execution_count": 5,
   "metadata": {},
   "outputs": [
    {
     "data": {
      "text/plain": [
       "BookKeeping {value = Value {credit = 10.0, debit = 10.0}, name = \"yxl\"}"
      ]
     },
     "metadata": {},
     "output_type": "display_data"
    },
    {
     "data": {
      "text/plain": [
       "BookKeeping {value = Value {credit = 10.0, debit = 10.0}, name = \"zzz\"}"
      ]
     },
     "metadata": {},
     "output_type": "display_data"
    },
    {
     "data": {
      "text/plain": [
       "BookKeeping {value = Value {credit = 10.0, debit = 10.0}, name = \"yxl\"}"
      ]
     },
     "metadata": {},
     "output_type": "display_data"
    }
   ],
   "source": [
    "u1 = BookKeeping (Value 10.0 10.0) \"yxl\"\n",
    "u1\n",
    "changeName u1 \"zzz\"\n",
    "u1"
   ]
  },
  {
   "cell_type": "code",
   "execution_count": 7,
   "metadata": {},
   "outputs": [
    {
     "data": {
      "text/plain": [
       "Value {credit = 10.0, debit = 10.0}"
      ]
     },
     "metadata": {},
     "output_type": "display_data"
    }
   ],
   "source": [
    " value u1"
   ]
  },
  {
   "cell_type": "markdown",
   "metadata": {},
   "source": [
    "## Task 5. JSON"
   ]
  },
  {
   "cell_type": "markdown",
   "metadata": {},
   "source": [
    "JSON and XML are formats that allow you to encode objects of algebraic datatypes as text. "
   ]
  },
  {
   "cell_type": "markdown",
   "metadata": {},
   "source": [
    "Here is an example from \"opensource.adobe.com\":"
   ]
  },
  {
   "cell_type": "raw",
   "metadata": {},
   "source": [
    "`{\n",
    "\t\"id\": \"0001\",\n",
    "\t\"type\": \"donut\",\n",
    "\t\"name\": \"Cake\",\n",
    "\t\"image\":\n",
    "\t\t{\n",
    "\t\t\t\"url\": \"images/0001.jpg\",\n",
    "\t\t\t\"width\": 200,\n",
    "\t\t\t\"height\": 200\n",
    "\t\t},\n",
    "\t\"thumbnail\":\n",
    "\t\t{\n",
    "\t\t\t\"url\": \"images/thumbnails/0001.jpg\",\n",
    "\t\t\t\"width\": 32,\n",
    "\t\t\t\"height\": 32\n",
    "\t\t}\n",
    "}`"
   ]
  },
  {
   "cell_type": "markdown",
   "metadata": {},
   "source": [
    "Design a datatype `Image` that can be used to represent the image and the thumbnail. "
   ]
  },
  {
   "cell_type": "code",
   "execution_count": null,
   "metadata": {},
   "outputs": [],
   "source": [
    "data ID = ID String deriving (Show, Eq)\n",
    "data TYPE = TYPE String deriving (Show, Eq)\n",
    "data NAME = NAME String deriving (Show, Eq)\n",
    "data URL1 = URL1 String deriving (Show, Eq)\n",
    "data URL2 = URL2 String deriving (Show, Eq)\n",
    "data WIDTH = WIDTH Int deriving (Show, Eq)\n",
    "data HEIGHT = HEIGHT Int deriving (Show, Eq)\n",
    "data Image1 = Image1 URL1 WIDTH HEIGHT deriving (Show, Eq)\n",
    "data ThumbNail = ThumbNail URL2 WIDTH HEIGHT deriving (Show, Eq)\n",
    "data Image = IMAGE ID TYPE NAME Image1 ThumbNail deriving (Show, Eq)"
   ]
  },
  {
   "cell_type": "code",
   "execution_count": null,
   "metadata": {},
   "outputs": [],
   "source": [
    "data Image1 = Image1\n",
    "  { url    :: String\n",
    "  , height :: Integer\n",
    "  , width  :: Integer\n",
    "  } deriving (Show)\n",
    "data Thumbnail = Thumbnail\n",
    "  { urlt    :: String\n",
    "  , heightt :: Integer\n",
    "  , widtht  :: Integer\n",
    "  } deriving (Show)\n",
    "data Image = Image\n",
    "  { idi       :: String\n",
    "  , typei     :: String\n",
    "  , namei     :: String\n",
    "  , image1    :: Image1\n",
    "  , thumbnail :: Thumbnail\n",
    "  } deriving (Show)"
   ]
  }
 ],
 "metadata": {
  "kernelspec": {
   "display_name": "Haskell",
   "language": "haskell",
   "name": "haskell"
  },
  "language_info": {
   "codemirror_mode": "Haskell",
   "file_extension": ".hs",
   "mimetype": "text/x-haskell",
   "name": "haskell",
   "pygments_lexer": "Haskell",
   "version": "8.10.4"
  }
 },
 "nbformat": 4,
 "nbformat_minor": 4
}
